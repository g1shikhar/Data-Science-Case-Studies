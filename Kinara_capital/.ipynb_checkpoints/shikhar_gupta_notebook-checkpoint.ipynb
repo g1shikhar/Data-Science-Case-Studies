{
 "cells": [
  {
   "cell_type": "markdown",
   "metadata": {},
   "source": [
    "# Problem 1 - Predicting Descision to Lend"
   ]
  },
  {
   "cell_type": "code",
   "execution_count": 1,
   "metadata": {},
   "outputs": [],
   "source": [
    "import pandas as pd\n",
    "import numpy as np\n",
    "%matplotlib inline\n",
    "import sqlite3"
   ]
  },
  {
   "cell_type": "code",
   "execution_count": 2,
   "metadata": {},
   "outputs": [],
   "source": [
    "# connecting database\n",
    "conn=sqlite3.connect(\"kinara_assessment_20190807.db\")"
   ]
  },
  {
   "cell_type": "code",
   "execution_count": 3,
   "metadata": {},
   "outputs": [],
   "source": [
    "# creating cursor object ointing to db\n",
    "cur=conn.cursor()"
   ]
  },
  {
   "cell_type": "code",
   "execution_count": 4,
   "metadata": {
    "scrolled": true
   },
   "outputs": [
    {
     "name": "stdout",
     "output_type": "stream",
     "text": [
      "[(2476,)]\n",
      "[(2476,)]\n",
      "[(2476,)]\n",
      "[(2476,)]\n"
     ]
    }
   ],
   "source": [
    "# getting total count of files\n",
    "cur.execute(\"select count(*) from loan_information\")\n",
    "tot_cnt_ln_inf=cur.fetchall()\n",
    "cur.execute(\"select count(*) from enterprise_information\")\n",
    "tot_cnt_ent_Inf=cur.fetchall()\n",
    "cur.execute(\"select count(*) from scores_information\")\n",
    "tot_cnt_score_inf=cur.fetchall()\n",
    "cur.execute(\"select count(*) from disbursement_information\")\n",
    "tot_dis_inf=cur.fetchall()\n",
    "print(tot_cnt_ln_inf)\n",
    "print(tot_cnt_ent_Inf)\n",
    "print(tot_cnt_score_inf)\n",
    "print(tot_cnt_score_inf)"
   ]
  },
  {
   "cell_type": "code",
   "execution_count": 5,
   "metadata": {},
   "outputs": [
    {
     "data": {
      "text/plain": [
       "<sqlite3.Cursor at 0x2c2f2310b20>"
      ]
     },
     "execution_count": 5,
     "metadata": {},
     "output_type": "execute_result"
    }
   ],
   "source": [
    "cur.execute(\"drop table disbursement_information_nonull\")\n",
    "# creating disbursement files with non null values before join\n",
    "\n",
    "cur.execute(\"CREATE TABLE disbursement_information_nonull AS SELECT * FROM disbursement_information where account_number IS NOT NULL\")"
   ]
  },
  {
   "cell_type": "code",
   "execution_count": 6,
   "metadata": {},
   "outputs": [
    {
     "name": "stdout",
     "output_type": "stream",
     "text": [
      "[]\n"
     ]
    }
   ],
   "source": [
    "cur.execute(\"drop table loan_details\")\n",
    "# creating final merged table\n",
    "cur.execute(\"create table loan_details as \\\n",
    "select a.loan_id,\\\n",
    "a.account_number,\\\n",
    "customer_id,\\\n",
    "a.enterprise_id,\\\n",
    "screening_date,\\\n",
    "product_code,\\\n",
    "hub_id,\\\n",
    "business_type,\\\n",
    "business_activity,\\\n",
    "business_sector,\\\n",
    "ManagAgeui_APP,\\\n",
    "BusinFormalityOfTheBusinessui,\\\n",
    "ManagCBscoreui_APP,\\\n",
    "total_disbursement_amount,\\\n",
    "disbursement_month \\\n",
    "from loan_information as a \\\n",
    "left join scores_information as b \\\n",
    "on a.loan_id = b.loan_id \\\n",
    "left join enterprise_information as c \\\n",
    "on a.loan_id= c.loan_id \\\n",
    "left join disbursement_information_nonull as d on a.account_number = d.account_number\")\n",
    "print(cur.fetchall())"
   ]
  },
  {
   "cell_type": "code",
   "execution_count": 7,
   "metadata": {},
   "outputs": [
    {
     "name": "stdout",
     "output_type": "stream",
     "text": [
      "[(2476,)]\n"
     ]
    }
   ],
   "source": [
    "# matching the count of final merged table\n",
    "cur.execute(\"select count(*) from loan_details\")\n",
    "print(cur.fetchall())\n"
   ]
  },
  {
   "cell_type": "code",
   "execution_count": 8,
   "metadata": {
    "scrolled": true
   },
   "outputs": [
    {
     "data": {
      "text/html": [
       "<div>\n",
       "<style scoped>\n",
       "    .dataframe tbody tr th:only-of-type {\n",
       "        vertical-align: middle;\n",
       "    }\n",
       "\n",
       "    .dataframe tbody tr th {\n",
       "        vertical-align: top;\n",
       "    }\n",
       "\n",
       "    .dataframe thead th {\n",
       "        text-align: right;\n",
       "    }\n",
       "</style>\n",
       "<table border=\"1\" class=\"dataframe\">\n",
       "  <thead>\n",
       "    <tr style=\"text-align: right;\">\n",
       "      <th></th>\n",
       "      <th>loan_id</th>\n",
       "      <th>account_number</th>\n",
       "      <th>customer_id</th>\n",
       "      <th>enterprise_id</th>\n",
       "      <th>screening_date</th>\n",
       "      <th>product_code</th>\n",
       "      <th>hub_id</th>\n",
       "      <th>business_type</th>\n",
       "      <th>business_activity</th>\n",
       "      <th>business_sector</th>\n",
       "      <th>ManagAgeui_APP</th>\n",
       "      <th>BusinFormalityOfTheBusinessui</th>\n",
       "      <th>ManagCBscoreui_APP</th>\n",
       "      <th>total_disbursement_amount</th>\n",
       "      <th>disbursement_month</th>\n",
       "    </tr>\n",
       "  </thead>\n",
       "  <tbody>\n",
       "    <tr>\n",
       "      <th>0</th>\n",
       "      <td>29321</td>\n",
       "      <td>None</td>\n",
       "      <td>71846</td>\n",
       "      <td>24500.0</td>\n",
       "      <td>2018-04-19</td>\n",
       "      <td>None</td>\n",
       "      <td>53</td>\n",
       "      <td>None</td>\n",
       "      <td>Job Work</td>\n",
       "      <td>Machine  Components</td>\n",
       "      <td>27.0</td>\n",
       "      <td>None</td>\n",
       "      <td>776.0</td>\n",
       "      <td>NaN</td>\n",
       "      <td>None</td>\n",
       "    </tr>\n",
       "    <tr>\n",
       "      <th>1</th>\n",
       "      <td>13613</td>\n",
       "      <td>TLWCU0003070</td>\n",
       "      <td>31083</td>\n",
       "      <td>10723.0</td>\n",
       "      <td>2017-08-10</td>\n",
       "      <td>TLWCU</td>\n",
       "      <td>39</td>\n",
       "      <td>Trading</td>\n",
       "      <td>Retail</td>\n",
       "      <td>Electronics</td>\n",
       "      <td>30.0</td>\n",
       "      <td>Invoice &amp; Banked</td>\n",
       "      <td>616.0</td>\n",
       "      <td>400000.0</td>\n",
       "      <td>Aug-2017</td>\n",
       "    </tr>\n",
       "    <tr>\n",
       "      <th>2</th>\n",
       "      <td>13921</td>\n",
       "      <td>None</td>\n",
       "      <td>31928</td>\n",
       "      <td>11002.0</td>\n",
       "      <td>2017-08-17</td>\n",
       "      <td>None</td>\n",
       "      <td>56</td>\n",
       "      <td>None</td>\n",
       "      <td>Retail</td>\n",
       "      <td>Agriculture</td>\n",
       "      <td>55.0</td>\n",
       "      <td>None</td>\n",
       "      <td>793.0</td>\n",
       "      <td>NaN</td>\n",
       "      <td>None</td>\n",
       "    </tr>\n",
       "    <tr>\n",
       "      <th>3</th>\n",
       "      <td>16520</td>\n",
       "      <td>None</td>\n",
       "      <td>38660</td>\n",
       "      <td>13220.0</td>\n",
       "      <td>2017-10-21</td>\n",
       "      <td>None</td>\n",
       "      <td>58</td>\n",
       "      <td>None</td>\n",
       "      <td>Retail</td>\n",
       "      <td>Food &amp; Beverage</td>\n",
       "      <td>26.0</td>\n",
       "      <td>None</td>\n",
       "      <td>781.0</td>\n",
       "      <td>NaN</td>\n",
       "      <td>None</td>\n",
       "    </tr>\n",
       "    <tr>\n",
       "      <th>4</th>\n",
       "      <td>49742</td>\n",
       "      <td>TLWCS0012623</td>\n",
       "      <td>119694</td>\n",
       "      <td>40426.0</td>\n",
       "      <td>2018-12-24</td>\n",
       "      <td>TLWCS</td>\n",
       "      <td>27</td>\n",
       "      <td>Manufacturing</td>\n",
       "      <td>Job Work &amp; Sales</td>\n",
       "      <td>Textiles</td>\n",
       "      <td>30.0</td>\n",
       "      <td>Cash &amp; Non Banked</td>\n",
       "      <td>689.0</td>\n",
       "      <td>500000.0</td>\n",
       "      <td>Jan-2019</td>\n",
       "    </tr>\n",
       "  </tbody>\n",
       "</table>\n",
       "</div>"
      ],
      "text/plain": [
       "   loan_id account_number  customer_id  enterprise_id screening_date  \\\n",
       "0    29321           None        71846        24500.0     2018-04-19   \n",
       "1    13613   TLWCU0003070        31083        10723.0     2017-08-10   \n",
       "2    13921           None        31928        11002.0     2017-08-17   \n",
       "3    16520           None        38660        13220.0     2017-10-21   \n",
       "4    49742   TLWCS0012623       119694        40426.0     2018-12-24   \n",
       "\n",
       "  product_code  hub_id  business_type business_activity      business_sector  \\\n",
       "0         None      53           None          Job Work  Machine  Components   \n",
       "1        TLWCU      39        Trading            Retail          Electronics   \n",
       "2         None      56           None            Retail          Agriculture   \n",
       "3         None      58           None            Retail      Food & Beverage   \n",
       "4        TLWCS      27  Manufacturing  Job Work & Sales             Textiles   \n",
       "\n",
       "   ManagAgeui_APP BusinFormalityOfTheBusinessui  ManagCBscoreui_APP  \\\n",
       "0            27.0                          None               776.0   \n",
       "1            30.0              Invoice & Banked               616.0   \n",
       "2            55.0                          None               793.0   \n",
       "3            26.0                          None               781.0   \n",
       "4            30.0             Cash & Non Banked               689.0   \n",
       "\n",
       "   total_disbursement_amount disbursement_month  \n",
       "0                        NaN               None  \n",
       "1                   400000.0           Aug-2017  \n",
       "2                        NaN               None  \n",
       "3                        NaN               None  \n",
       "4                   500000.0           Jan-2019  "
      ]
     },
     "execution_count": 8,
     "metadata": {},
     "output_type": "execute_result"
    }
   ],
   "source": [
    "# creating dataframe from merged table\n",
    "data=pd.read_sql_query(\"select * from loan_details\",conn)\n",
    "data.head()"
   ]
  },
  {
   "cell_type": "code",
   "execution_count": 9,
   "metadata": {},
   "outputs": [
    {
     "data": {
      "text/html": [
       "<div>\n",
       "<style scoped>\n",
       "    .dataframe tbody tr th:only-of-type {\n",
       "        vertical-align: middle;\n",
       "    }\n",
       "\n",
       "    .dataframe tbody tr th {\n",
       "        vertical-align: top;\n",
       "    }\n",
       "\n",
       "    .dataframe thead th {\n",
       "        text-align: right;\n",
       "    }\n",
       "</style>\n",
       "<table border=\"1\" class=\"dataframe\">\n",
       "  <thead>\n",
       "    <tr style=\"text-align: right;\">\n",
       "      <th></th>\n",
       "      <th>loan_id</th>\n",
       "      <th>account_number</th>\n",
       "      <th>customer_id</th>\n",
       "      <th>enterprise_id</th>\n",
       "      <th>screening_date</th>\n",
       "      <th>product_code</th>\n",
       "      <th>hub_id</th>\n",
       "      <th>business_type</th>\n",
       "      <th>business_activity</th>\n",
       "      <th>business_sector</th>\n",
       "      <th>ManagAgeui_APP</th>\n",
       "      <th>BusinFormalityOfTheBusinessui</th>\n",
       "      <th>ManagCBscoreui_APP</th>\n",
       "      <th>total_disbursement_amount</th>\n",
       "      <th>disbursement_month</th>\n",
       "    </tr>\n",
       "  </thead>\n",
       "  <tbody>\n",
       "    <tr>\n",
       "      <th>0</th>\n",
       "      <td>29321</td>\n",
       "      <td>None</td>\n",
       "      <td>71846</td>\n",
       "      <td>24500.0</td>\n",
       "      <td>2018-04-19</td>\n",
       "      <td>None</td>\n",
       "      <td>53</td>\n",
       "      <td>None</td>\n",
       "      <td>Job Work</td>\n",
       "      <td>Machine  Components</td>\n",
       "      <td>27.0</td>\n",
       "      <td>None</td>\n",
       "      <td>776.0</td>\n",
       "      <td>NaN</td>\n",
       "      <td>None</td>\n",
       "    </tr>\n",
       "    <tr>\n",
       "      <th>1</th>\n",
       "      <td>13613</td>\n",
       "      <td>TLWCU0003070</td>\n",
       "      <td>31083</td>\n",
       "      <td>10723.0</td>\n",
       "      <td>2017-08-10</td>\n",
       "      <td>TLWCU</td>\n",
       "      <td>39</td>\n",
       "      <td>Trading</td>\n",
       "      <td>Retail</td>\n",
       "      <td>Electronics</td>\n",
       "      <td>30.0</td>\n",
       "      <td>Invoice &amp; Banked</td>\n",
       "      <td>616.0</td>\n",
       "      <td>400000.0</td>\n",
       "      <td>Aug-2017</td>\n",
       "    </tr>\n",
       "    <tr>\n",
       "      <th>2</th>\n",
       "      <td>13921</td>\n",
       "      <td>None</td>\n",
       "      <td>31928</td>\n",
       "      <td>11002.0</td>\n",
       "      <td>2017-08-17</td>\n",
       "      <td>None</td>\n",
       "      <td>56</td>\n",
       "      <td>None</td>\n",
       "      <td>Retail</td>\n",
       "      <td>Agriculture</td>\n",
       "      <td>55.0</td>\n",
       "      <td>None</td>\n",
       "      <td>793.0</td>\n",
       "      <td>NaN</td>\n",
       "      <td>None</td>\n",
       "    </tr>\n",
       "    <tr>\n",
       "      <th>3</th>\n",
       "      <td>16520</td>\n",
       "      <td>None</td>\n",
       "      <td>38660</td>\n",
       "      <td>13220.0</td>\n",
       "      <td>2017-10-21</td>\n",
       "      <td>None</td>\n",
       "      <td>58</td>\n",
       "      <td>None</td>\n",
       "      <td>Retail</td>\n",
       "      <td>Food &amp; Beverage</td>\n",
       "      <td>26.0</td>\n",
       "      <td>None</td>\n",
       "      <td>781.0</td>\n",
       "      <td>NaN</td>\n",
       "      <td>None</td>\n",
       "    </tr>\n",
       "    <tr>\n",
       "      <th>4</th>\n",
       "      <td>49742</td>\n",
       "      <td>TLWCS0012623</td>\n",
       "      <td>119694</td>\n",
       "      <td>40426.0</td>\n",
       "      <td>2018-12-24</td>\n",
       "      <td>TLWCS</td>\n",
       "      <td>27</td>\n",
       "      <td>Manufacturing</td>\n",
       "      <td>Job Work &amp; Sales</td>\n",
       "      <td>Textiles</td>\n",
       "      <td>30.0</td>\n",
       "      <td>Cash &amp; Non Banked</td>\n",
       "      <td>689.0</td>\n",
       "      <td>500000.0</td>\n",
       "      <td>Jan-2019</td>\n",
       "    </tr>\n",
       "  </tbody>\n",
       "</table>\n",
       "</div>"
      ],
      "text/plain": [
       "   loan_id account_number  customer_id  enterprise_id screening_date  \\\n",
       "0    29321           None        71846        24500.0     2018-04-19   \n",
       "1    13613   TLWCU0003070        31083        10723.0     2017-08-10   \n",
       "2    13921           None        31928        11002.0     2017-08-17   \n",
       "3    16520           None        38660        13220.0     2017-10-21   \n",
       "4    49742   TLWCS0012623       119694        40426.0     2018-12-24   \n",
       "\n",
       "  product_code  hub_id  business_type business_activity      business_sector  \\\n",
       "0         None      53           None          Job Work  Machine  Components   \n",
       "1        TLWCU      39        Trading            Retail          Electronics   \n",
       "2         None      56           None            Retail          Agriculture   \n",
       "3         None      58           None            Retail      Food & Beverage   \n",
       "4        TLWCS      27  Manufacturing  Job Work & Sales             Textiles   \n",
       "\n",
       "   ManagAgeui_APP BusinFormalityOfTheBusinessui  ManagCBscoreui_APP  \\\n",
       "0            27.0                          None               776.0   \n",
       "1            30.0              Invoice & Banked               616.0   \n",
       "2            55.0                          None               793.0   \n",
       "3            26.0                          None               781.0   \n",
       "4            30.0             Cash & Non Banked               689.0   \n",
       "\n",
       "   total_disbursement_amount disbursement_month  \n",
       "0                        NaN               None  \n",
       "1                   400000.0           Aug-2017  \n",
       "2                        NaN               None  \n",
       "3                        NaN               None  \n",
       "4                   500000.0           Jan-2019  "
      ]
     },
     "execution_count": 9,
     "metadata": {},
     "output_type": "execute_result"
    }
   ],
   "source": [
    "data.head()"
   ]
  },
  {
   "cell_type": "code",
   "execution_count": 10,
   "metadata": {},
   "outputs": [],
   "source": [
    "#creating label variable using account_number and imputing 0 for total_disbursement_amount  wherver there is null\n",
    "data['target'] = np.where(data['account_number'].isnull(), 0, 1)\n",
    "data['total_disbursement_amount'] = np.where(data['total_disbursement_amount'].isnull(), 0, data['total_disbursement_amount'])"
   ]
  },
  {
   "cell_type": "code",
   "execution_count": 11,
   "metadata": {},
   "outputs": [],
   "source": [
    "#creating cibil categories using cibil scores\n",
    "data['cibil_category'] = np.where(data['ManagCBscoreui_APP']==-1, 'No info', \n",
    "        (np.where(data['ManagCBscoreui_APP']==0,'LT_6_months',(np.where(data['ManagCBscoreui_APP'] <= 650, 'bad', 'good')))))"
   ]
  },
  {
   "cell_type": "code",
   "execution_count": 12,
   "metadata": {
    "scrolled": true
   },
   "outputs": [
    {
     "data": {
      "text/plain": [
       "loan_id                          2476\n",
       "account_number                   1369\n",
       "customer_id                      2443\n",
       "enterprise_id                    2442\n",
       "screening_date                    682\n",
       "product_code                       16\n",
       "hub_id                             90\n",
       "business_type                       4\n",
       "business_activity                   9\n",
       "business_sector                    38\n",
       "ManagAgeui_APP                     48\n",
       "BusinFormalityOfTheBusinessui       4\n",
       "ManagCBscoreui_APP                306\n",
       "total_disbursement_amount          90\n",
       "disbursement_month                 55\n",
       "target                              2\n",
       "cibil_category                      3\n",
       "dtype: int64"
      ]
     },
     "execution_count": 12,
     "metadata": {},
     "output_type": "execute_result"
    }
   ],
   "source": [
    "data.nunique()"
   ]
  },
  {
   "cell_type": "code",
   "execution_count": 13,
   "metadata": {},
   "outputs": [],
   "source": [
    "#dropping id's and redundant variables from above step\n",
    "data.drop(['account_number', 'ManagCBscoreui_APP', 'loan_id', 'customer_id', \n",
    "           'enterprise_id', 'disbursement_month', 'screening_date'], axis=1, inplace=True)"
   ]
  },
  {
   "cell_type": "code",
   "execution_count": 14,
   "metadata": {
    "scrolled": false
   },
   "outputs": [
    {
     "name": "stdout",
     "output_type": "stream",
     "text": [
      "product_code\n",
      "hub_id\n",
      "business_type\n",
      "business_activity\n",
      "business_sector\n",
      "ManagAgeui_APP\n",
      "BusinFormalityOfTheBusinessui\n",
      "total_disbursement_amount\n",
      "cibil_category\n"
     ]
    }
   ],
   "source": [
    "#missing value treatment: replacing the categorical variable with mode and numeric variable with mean\n",
    "categ = list()\n",
    "numeric = list()\n",
    "\n",
    "for c in data.drop(['target'], axis=1).columns:\n",
    "\n",
    "    if data[c].dtype == \"object\":\n",
    "        print(c)\n",
    "        categ.append(c)\n",
    "        data[c].fillna(data[c].mode()[0], inplace = True)\n",
    "    else:\n",
    "        print(c)\n",
    "        numeric.append(c)\n",
    "        data[c].fillna(data[c].mean(), inplace = True)"
   ]
  },
  {
   "cell_type": "code",
   "execution_count": 15,
   "metadata": {},
   "outputs": [],
   "source": [
    "#creating collateral categories using product_type scores\n",
    "data['collateral'] = np.where(data['product_code'].str[-1]=='U', 'Unsecured', 'Secured')\n",
    "data.drop(['product_code'], axis=1, inplace=True)"
   ]
  },
  {
   "cell_type": "code",
   "execution_count": 16,
   "metadata": {},
   "outputs": [
    {
     "data": {
      "text/plain": [
       "['hub_id', 'ManagAgeui_APP', 'total_disbursement_amount']"
      ]
     },
     "execution_count": 16,
     "metadata": {},
     "output_type": "execute_result"
    }
   ],
   "source": [
    "numeric"
   ]
  },
  {
   "cell_type": "code",
   "execution_count": 17,
   "metadata": {
    "scrolled": true
   },
   "outputs": [
    {
     "data": {
      "text/plain": [
       "<AxesSubplot:>"
      ]
     },
     "execution_count": 17,
     "metadata": {},
     "output_type": "execute_result"
    },
    {
     "data": {
      "image/png": "[encoded data removed]",
      "text/plain": [
       "<Figure size 432x288 with 1 Axes>"
      ]
     },
     "metadata": {
      "needs_background": "light"
     },
     "output_type": "display_data"
    }
   ],
   "source": [
    "# drawing boxplots for age, though it has oulier according to scatter plot but they are legitimate age values so no outlier \n",
    "# treatment required\n",
    "data.boxplot(column ='ManagAgeui_APP', grid = False)"
   ]
  },
  {
   "cell_type": "code",
   "execution_count": 18,
   "metadata": {},
   "outputs": [
    {
     "data": {
      "text/plain": [
       "<AxesSubplot:>"
      ]
     },
     "execution_count": 18,
     "metadata": {},
     "output_type": "execute_result"
    },
    {
     "data": {
      "image/png": "[encoded data removed]",
      "text/plain": [
       "<Figure size 432x288 with 1 Axes>"
      ]
     },
     "metadata": {
      "needs_background": "light"
     },
     "output_type": "display_data"
    }
   ],
   "source": [
    "# drawing boxplots for total_disbursement_amount, though it has oulier according to box plot but they are legitimate\n",
    "# total_disbursement_amount values so no outlier treatment required\n",
    "data_disb = data[data['total_disbursement_amount']!=0]\n",
    "data_disb.boxplot(column ='total_disbursement_amount', grid = False) "
   ]
  },
  {
   "cell_type": "code",
   "execution_count": 19,
   "metadata": {},
   "outputs": [
    {
     "data": {
      "text/plain": [
       "['product_code',\n",
       " 'business_type',\n",
       " 'business_activity',\n",
       " 'business_sector',\n",
       " 'BusinFormalityOfTheBusinessui',\n",
       " 'cibil_category']"
      ]
     },
     "execution_count": 19,
     "metadata": {},
     "output_type": "execute_result"
    }
   ],
   "source": [
    "categ"
   ]
  },
  {
   "cell_type": "code",
   "execution_count": 20,
   "metadata": {
    "scrolled": true
   },
   "outputs": [
    {
     "data": {
      "text/html": [
       "<div>\n",
       "<style scoped>\n",
       "    .dataframe tbody tr th:only-of-type {\n",
       "        vertical-align: middle;\n",
       "    }\n",
       "\n",
       "    .dataframe tbody tr th {\n",
       "        vertical-align: top;\n",
       "    }\n",
       "\n",
       "    .dataframe thead th {\n",
       "        text-align: right;\n",
       "    }\n",
       "</style>\n",
       "<table border=\"1\" class=\"dataframe\">\n",
       "  <thead>\n",
       "    <tr style=\"text-align: right;\">\n",
       "      <th>business_type</th>\n",
       "      <th></th>\n",
       "      <th>Manufacturing</th>\n",
       "      <th>Services</th>\n",
       "      <th>Trading</th>\n",
       "    </tr>\n",
       "    <tr>\n",
       "      <th>target</th>\n",
       "      <th></th>\n",
       "      <th></th>\n",
       "      <th></th>\n",
       "      <th></th>\n",
       "    </tr>\n",
       "  </thead>\n",
       "  <tbody>\n",
       "    <tr>\n",
       "      <th>0</th>\n",
       "      <td>0.0</td>\n",
       "      <td>792.0</td>\n",
       "      <td>3.0</td>\n",
       "      <td>312.0</td>\n",
       "    </tr>\n",
       "    <tr>\n",
       "      <th>1</th>\n",
       "      <td>1.0</td>\n",
       "      <td>802.0</td>\n",
       "      <td>5.0</td>\n",
       "      <td>561.0</td>\n",
       "    </tr>\n",
       "  </tbody>\n",
       "</table>\n",
       "</div>"
      ],
      "text/plain": [
       "business_type       Manufacturing  Services  Trading\n",
       "target                                              \n",
       "0              0.0          792.0       3.0    312.0\n",
       "1              1.0          802.0       5.0    561.0"
      ]
     },
     "execution_count": 20,
     "metadata": {},
     "output_type": "execute_result"
    },
    {
     "data": {
      "image/png": "[encoded data removed]",
      "text/plain": [
       "<Figure size 432x288 with 1 Axes>"
      ]
     },
     "metadata": {
      "needs_background": "light"
     },
     "output_type": "display_data"
    },
    {
     "data": {
      "image/png": "[encoded data removed]",
      "text/plain": [
       "<Figure size 864x504 with 1 Axes>"
      ]
     },
     "metadata": {
      "needs_background": "light"
     },
     "output_type": "display_data"
    }
   ],
   "source": [
    "# distribution is skewed towards mnufacturing and trading, showing more laon applications from these types\n",
    "data['business_type'].value_counts().plot(kind='bar')\n",
    "\n",
    "df2 = data.groupby(['business_type', 'target'])['target'].count().unstack('business_type').fillna(0)\n",
    "df2.plot(kind='bar', stacked=True, figsize=(12,7))\n",
    "df2"
   ]
  },
  {
   "cell_type": "code",
   "execution_count": 21,
   "metadata": {
    "scrolled": true
   },
   "outputs": [
    {
     "data": {
      "text/html": [
       "<div>\n",
       "<style scoped>\n",
       "    .dataframe tbody tr th:only-of-type {\n",
       "        vertical-align: middle;\n",
       "    }\n",
       "\n",
       "    .dataframe tbody tr th {\n",
       "        vertical-align: top;\n",
       "    }\n",
       "\n",
       "    .dataframe thead th {\n",
       "        text-align: right;\n",
       "    }\n",
       "</style>\n",
       "<table border=\"1\" class=\"dataframe\">\n",
       "  <thead>\n",
       "    <tr style=\"text-align: right;\">\n",
       "      <th>business_activity</th>\n",
       "      <th>Job Work</th>\n",
       "      <th>Job Work &amp; Sales</th>\n",
       "      <th>Job Work and sales</th>\n",
       "      <th>Retail</th>\n",
       "      <th>Retail (Business to Business)</th>\n",
       "      <th>Retail (Business to Customer)</th>\n",
       "      <th>Sales</th>\n",
       "      <th>Whole Sale</th>\n",
       "      <th>Whole sale</th>\n",
       "    </tr>\n",
       "    <tr>\n",
       "      <th>target</th>\n",
       "      <th></th>\n",
       "      <th></th>\n",
       "      <th></th>\n",
       "      <th></th>\n",
       "      <th></th>\n",
       "      <th></th>\n",
       "      <th></th>\n",
       "      <th></th>\n",
       "      <th></th>\n",
       "    </tr>\n",
       "  </thead>\n",
       "  <tbody>\n",
       "    <tr>\n",
       "      <th>0</th>\n",
       "      <td>135.0</td>\n",
       "      <td>230.0</td>\n",
       "      <td>0.0</td>\n",
       "      <td>380.0</td>\n",
       "      <td>1.0</td>\n",
       "      <td>3.0</td>\n",
       "      <td>189.0</td>\n",
       "      <td>169.0</td>\n",
       "      <td>0.0</td>\n",
       "    </tr>\n",
       "    <tr>\n",
       "      <th>1</th>\n",
       "      <td>187.0</td>\n",
       "      <td>252.0</td>\n",
       "      <td>4.0</td>\n",
       "      <td>365.0</td>\n",
       "      <td>3.0</td>\n",
       "      <td>2.0</td>\n",
       "      <td>360.0</td>\n",
       "      <td>195.0</td>\n",
       "      <td>1.0</td>\n",
       "    </tr>\n",
       "  </tbody>\n",
       "</table>\n",
       "</div>"
      ],
      "text/plain": [
       "business_activity  Job Work  Job Work & Sales  Job Work and sales  Retail  \\\n",
       "target                                                                      \n",
       "0                     135.0             230.0                 0.0   380.0   \n",
       "1                     187.0             252.0                 4.0   365.0   \n",
       "\n",
       "business_activity  Retail (Business to Business)  \\\n",
       "target                                             \n",
       "0                                            1.0   \n",
       "1                                            3.0   \n",
       "\n",
       "business_activity  Retail (Business to Customer)  Sales  Whole Sale  \\\n",
       "target                                                                \n",
       "0                                            3.0  189.0       169.0   \n",
       "1                                            2.0  360.0       195.0   \n",
       "\n",
       "business_activity  Whole sale  \n",
       "target                         \n",
       "0                         0.0  \n",
       "1                         1.0  "
      ]
     },
     "execution_count": 21,
     "metadata": {},
     "output_type": "execute_result"
    },
    {
     "data": {
      "image/png": "[encoded data removed]",
      "text/plain": [
       "<Figure size 432x288 with 1 Axes>"
      ]
     },
     "metadata": {
      "needs_background": "light"
     },
     "output_type": "display_data"
    },
    {
     "data": {
      "image/png": "[encoded data removed]",
      "text/plain": [
       "<Figure size 864x504 with 1 Axes>"
      ]
     },
     "metadata": {
      "needs_background": "light"
     },
     "output_type": "display_data"
    }
   ],
   "source": [
    "#  again distribution is skewed towards particular activities, showing more laon applications from these types\n",
    "data['business_activity'].value_counts().plot(kind='bar')\n",
    "\n",
    "df2 = data.groupby(['business_activity', 'target'])['target'].count().unstack('business_activity').fillna(0)\n",
    "df2.plot(kind='bar', stacked=True, figsize=(12,7))\n",
    "df2"
   ]
  },
  {
   "cell_type": "code",
   "execution_count": 22,
   "metadata": {
    "scrolled": true
   },
   "outputs": [
    {
     "data": {
      "text/html": [
       "<div>\n",
       "<style scoped>\n",
       "    .dataframe tbody tr th:only-of-type {\n",
       "        vertical-align: middle;\n",
       "    }\n",
       "\n",
       "    .dataframe tbody tr th {\n",
       "        vertical-align: top;\n",
       "    }\n",
       "\n",
       "    .dataframe thead th {\n",
       "        text-align: right;\n",
       "    }\n",
       "</style>\n",
       "<table border=\"1\" class=\"dataframe\">\n",
       "  <thead>\n",
       "    <tr style=\"text-align: right;\">\n",
       "      <th>BusinFormalityOfTheBusinessui</th>\n",
       "      <th>Cash &amp; Banked</th>\n",
       "      <th>Cash &amp; Non Banked</th>\n",
       "      <th>Invoice &amp; Banked</th>\n",
       "      <th>Invoice &amp; Non Banked</th>\n",
       "    </tr>\n",
       "    <tr>\n",
       "      <th>target</th>\n",
       "      <th></th>\n",
       "      <th></th>\n",
       "      <th></th>\n",
       "      <th></th>\n",
       "    </tr>\n",
       "  </thead>\n",
       "  <tbody>\n",
       "    <tr>\n",
       "      <th>0</th>\n",
       "      <td>21</td>\n",
       "      <td>1015</td>\n",
       "      <td>36</td>\n",
       "      <td>35</td>\n",
       "    </tr>\n",
       "    <tr>\n",
       "      <th>1</th>\n",
       "      <td>57</td>\n",
       "      <td>1007</td>\n",
       "      <td>195</td>\n",
       "      <td>110</td>\n",
       "    </tr>\n",
       "  </tbody>\n",
       "</table>\n",
       "</div>"
      ],
      "text/plain": [
       "BusinFormalityOfTheBusinessui  Cash & Banked  Cash & Non Banked  \\\n",
       "target                                                            \n",
       "0                                         21               1015   \n",
       "1                                         57               1007   \n",
       "\n",
       "BusinFormalityOfTheBusinessui  Invoice & Banked  Invoice & Non Banked  \n",
       "target                                                                 \n",
       "0                                            36                    35  \n",
       "1                                           195                   110  "
      ]
     },
     "execution_count": 22,
     "metadata": {},
     "output_type": "execute_result"
    },
    {
     "data": {
      "image/png": "[encoded data removed]",
      "text/plain": [
       "<Figure size 432x288 with 1 Axes>"
      ]
     },
     "metadata": {
      "needs_background": "light"
     },
     "output_type": "display_data"
    },
    {
     "data": {
      "image/png": "[encoded data removed]",
      "text/plain": [
       "<Figure size 864x504 with 1 Axes>"
      ]
     },
     "metadata": {
      "needs_background": "light"
     },
     "output_type": "display_data"
    }
   ],
   "source": [
    "# distribution is skewed towards cash and non banked people, showing more laon applications from \n",
    "# these people dealing in cash transaction\n",
    "data['BusinFormalityOfTheBusinessui'].value_counts().plot(kind='bar')\n",
    "\n",
    "df2 = data.groupby(['BusinFormalityOfTheBusinessui', 'target'])['target'].count().unstack('BusinFormalityOfTheBusinessui').fillna(0)\n",
    "df2.plot(kind='bar', stacked=True, figsize=(12,7))\n",
    "df2"
   ]
  },
  {
   "cell_type": "code",
   "execution_count": 23,
   "metadata": {},
   "outputs": [
    {
     "data": {
      "text/html": [
       "<div>\n",
       "<style scoped>\n",
       "    .dataframe tbody tr th:only-of-type {\n",
       "        vertical-align: middle;\n",
       "    }\n",
       "\n",
       "    .dataframe tbody tr th {\n",
       "        vertical-align: top;\n",
       "    }\n",
       "\n",
       "    .dataframe thead th {\n",
       "        text-align: right;\n",
       "    }\n",
       "</style>\n",
       "<table border=\"1\" class=\"dataframe\">\n",
       "  <thead>\n",
       "    <tr style=\"text-align: right;\">\n",
       "      <th>cibil_category</th>\n",
       "      <th>LT_6_months</th>\n",
       "      <th>bad</th>\n",
       "      <th>good</th>\n",
       "    </tr>\n",
       "    <tr>\n",
       "      <th>target</th>\n",
       "      <th></th>\n",
       "      <th></th>\n",
       "      <th></th>\n",
       "    </tr>\n",
       "  </thead>\n",
       "  <tbody>\n",
       "    <tr>\n",
       "      <th>0</th>\n",
       "      <td>169</td>\n",
       "      <td>307</td>\n",
       "      <td>631</td>\n",
       "    </tr>\n",
       "    <tr>\n",
       "      <th>1</th>\n",
       "      <td>274</td>\n",
       "      <td>128</td>\n",
       "      <td>967</td>\n",
       "    </tr>\n",
       "  </tbody>\n",
       "</table>\n",
       "</div>"
      ],
      "text/plain": [
       "cibil_category  LT_6_months  bad  good\n",
       "target                                \n",
       "0                       169  307   631\n",
       "1                       274  128   967"
      ]
     },
     "execution_count": 23,
     "metadata": {},
     "output_type": "execute_result"
    },
    {
     "data": {
      "image/png": "[encoded data removed]",
      "text/plain": [
       "<Figure size 432x288 with 1 Axes>"
      ]
     },
     "metadata": {
      "needs_background": "light"
     },
     "output_type": "display_data"
    },
    {
     "data": {
      "image/png": "[encoded data removed]",
      "text/plain": [
       "<Figure size 864x504 with 1 Axes>"
      ]
     },
     "metadata": {
      "needs_background": "light"
     },
     "output_type": "display_data"
    }
   ],
   "source": [
    "# most people have good cibil scores\n",
    "data['cibil_category'].value_counts().plot(kind='bar')\n",
    "\n",
    "\n",
    "df2 = data.groupby(['cibil_category', 'target'])['target'].count().unstack('cibil_category').fillna(0)\n",
    "df2.plot(kind='bar', stacked=True, figsize=(12,7), )\n",
    "df2"
   ]
  },
  {
   "cell_type": "code",
   "execution_count": 24,
   "metadata": {},
   "outputs": [
    {
     "data": {
      "text/html": [
       "<div>\n",
       "<style scoped>\n",
       "    .dataframe tbody tr th:only-of-type {\n",
       "        vertical-align: middle;\n",
       "    }\n",
       "\n",
       "    .dataframe tbody tr th {\n",
       "        vertical-align: top;\n",
       "    }\n",
       "\n",
       "    .dataframe thead th {\n",
       "        text-align: right;\n",
       "    }\n",
       "</style>\n",
       "<table border=\"1\" class=\"dataframe\">\n",
       "  <thead>\n",
       "    <tr style=\"text-align: right;\">\n",
       "      <th>collateral</th>\n",
       "      <th>Secured</th>\n",
       "      <th>Unsecured</th>\n",
       "    </tr>\n",
       "    <tr>\n",
       "      <th>target</th>\n",
       "      <th></th>\n",
       "      <th></th>\n",
       "    </tr>\n",
       "  </thead>\n",
       "  <tbody>\n",
       "    <tr>\n",
       "      <th>0</th>\n",
       "      <td>1084</td>\n",
       "      <td>23</td>\n",
       "    </tr>\n",
       "    <tr>\n",
       "      <th>1</th>\n",
       "      <td>797</td>\n",
       "      <td>572</td>\n",
       "    </tr>\n",
       "  </tbody>\n",
       "</table>\n",
       "</div>"
      ],
      "text/plain": [
       "collateral  Secured  Unsecured\n",
       "target                        \n",
       "0              1084         23\n",
       "1               797        572"
      ]
     },
     "execution_count": 24,
     "metadata": {},
     "output_type": "execute_result"
    },
    {
     "data": {
      "image/png": "[encoded data removed]",
      "text/plain": [
       "<Figure size 432x288 with 1 Axes>"
      ]
     },
     "metadata": {
      "needs_background": "light"
     },
     "output_type": "display_data"
    },
    {
     "data": {
      "image/png": "[encoded data removed]",
      "text/plain": [
       "<Figure size 864x504 with 1 Axes>"
      ]
     },
     "metadata": {
      "needs_background": "light"
     },
     "output_type": "display_data"
    }
   ],
   "source": [
    "data['collateral'].value_counts().plot(kind='bar', )\n",
    "\n",
    "df2 = data.groupby(['collateral', 'target'])['target'].count().unstack('collateral').fillna(0)\n",
    "df2.plot(kind='bar', stacked=True, figsize=(12,7), )\n",
    "df2"
   ]
  },
  {
   "cell_type": "code",
   "execution_count": 25,
   "metadata": {
    "scrolled": true
   },
   "outputs": [
    {
     "name": "stdout",
     "output_type": "stream",
     "text": [
      "business_type\n",
      "business_activity\n",
      "business_sector\n",
      "BusinFormalityOfTheBusinessui\n",
      "cibil_category\n",
      "hub_id\n",
      "collateral\n"
     ]
    }
   ],
   "source": [
    "# since there are lot of categories most of them been skewed, we converte them to binary variables using one - hot encodeing \n",
    "\n",
    "categ.append('hub_id') #since hub id categorical var\n",
    "categ.remove('product_code')#replaced with collateral\n",
    "categ.append('collateral')#replaced with collateral\n",
    "\n",
    "for c in categ:\n",
    "\n",
    "    print(c)\n",
    "\n",
    "    data= pd.get_dummies(data, columns=[c])"
   ]
  },
  {
   "cell_type": "code",
   "execution_count": 26,
   "metadata": {
    "scrolled": true
   },
   "outputs": [
    {
     "data": {
      "text/plain": [
       "(2476, 153)"
      ]
     },
     "execution_count": 26,
     "metadata": {},
     "output_type": "execute_result"
    }
   ],
   "source": [
    "data.shape"
   ]
  },
  {
   "cell_type": "code",
   "execution_count": 27,
   "metadata": {},
   "outputs": [],
   "source": [
    "# since there lot of variables post one-hot encoding and it is classification problem, xgboost can used as a powerful predictors\n",
    "# capturing non linear relationships between independent and dependent variable\n",
    "\n",
    "import xgboost as xgb\n",
    "\n",
    "import pickle\n",
    "\n",
    "from sklearn.model_selection import train_test_split"
   ]
  },
  {
   "cell_type": "code",
   "execution_count": 28,
   "metadata": {
    "scrolled": true
   },
   "outputs": [],
   "source": [
    "ind = data.drop(['target', 'total_disbursement_amount'], axis=1)\n",
    "dep = data['target']"
   ]
  },
  {
   "cell_type": "code",
   "execution_count": 29,
   "metadata": {},
   "outputs": [],
   "source": [
    "# splitting into train and test datasets for performnace evaluation\n",
    "X_train, X_test, y_train, y_test = train_test_split(ind, dep, test_size=0.3, random_state=100)"
   ]
  },
  {
   "cell_type": "code",
   "execution_count": 30,
   "metadata": {},
   "outputs": [],
   "source": [
    "train=xgb.DMatrix(X_train, label=y_train)"
   ]
  },
  {
   "cell_type": "code",
   "execution_count": 31,
   "metadata": {},
   "outputs": [],
   "source": [
    "# following parametrs are bassed on small randomized grid seach\n",
    "Xgb_iter1 = xgb.train({\n",
    "\n",
    "'learning_rate': 0.05,\n",
    "\n",
    "'booster' : 'gbtree',\n",
    "\n",
    "'objective': 'binary:logistic',\n",
    "\n",
    "'max_depth': 1,\n",
    "\n",
    "'min_child_weight':15,\n",
    "\n",
    "'seed' :11,\n",
    "\n",
    "'verbose': True\n",
    "\n",
    "}, dtrain=train, num_boost_round = 1000)"
   ]
  },
  {
   "cell_type": "code",
   "execution_count": 32,
   "metadata": {},
   "outputs": [],
   "source": [
    "var_inp_dict = Xgb_iter1.get_score(importance_type='gain')"
   ]
  },
  {
   "cell_type": "code",
   "execution_count": 33,
   "metadata": {},
   "outputs": [
    {
     "data": {
      "text/plain": [
       "<AxesSubplot:>"
      ]
     },
     "execution_count": 33,
     "metadata": {},
     "output_type": "execute_result"
    },
    {
     "data": {
      "image/png": "[encoded data removed]",
      "text/plain": [
       "<Figure size 432x288 with 1 Axes>"
      ]
     },
     "metadata": {
      "needs_background": "light"
     },
     "output_type": "display_data"
    }
   ],
   "source": [
    "# variable importance visualization\n",
    "var_imp_df = pd.DataFrame(list(var_inp_dict.items()), columns = ['Variable', 'Gain']).sort_values('Gain', ascending = False).reset_index()\n",
    "var_imp_df.Gain.plot()"
   ]
  },
  {
   "cell_type": "code",
   "execution_count": 34,
   "metadata": {
    "scrolled": true
   },
   "outputs": [
    {
     "data": {
      "text/plain": [
       "{'collateral_Secured': 50.610243946761905,\n",
       " 'BusinFormalityOfTheBusinessui_Cash & Non Banked': 36.766885389600006,\n",
       " 'cibil_category_bad': 14.060682668461546,\n",
       " 'BusinFormalityOfTheBusinessui_Invoice & Banked': 5.715764215911767,\n",
       " 'business_sector_Machine  Components': 4.3114860573846165,\n",
       " 'business_activity_Retail': 2.221910196654639,\n",
       " 'business_sector_Food & Beverage': 4.535018679250001,\n",
       " 'business_activity_Job Work': 3.6407968400769235,\n",
       " 'business_activity_Sales': 3.1876914649642853,\n",
       " 'business_type_Manufacturing': 3.00180669046154,\n",
       " 'business_activity_Whole Sale': 2.064435010579998,\n",
       " 'ManagAgeui_APP': 1.491598301825397,\n",
       " 'business_type_Trading': 1.7245502018471337,\n",
       " 'business_sector_Textiles': 1.1097088454666666,\n",
       " 'BusinFormalityOfTheBusinessui_Invoice & Non Banked': 1.0182727230555555,\n",
       " 'cibil_category_LT_6_months': 0.8527603126428571,\n",
       " 'business_sector_Auto Components': 0.49432414766666666}"
      ]
     },
     "execution_count": 34,
     "metadata": {},
     "output_type": "execute_result"
    }
   ],
   "source": [
    "# selecting top variables based on gain\n",
    "var_inp_dict"
   ]
  },
  {
   "cell_type": "code",
   "execution_count": 35,
   "metadata": {},
   "outputs": [],
   "source": [
    "var_list =[\n",
    "'collateral_Secured',\n",
    " 'BusinFormalityOfTheBusinessui_Cash & Non Banked',\n",
    " 'cibil_category_bad',\n",
    " 'BusinFormalityOfTheBusinessui_Invoice & Banked',\n",
    " 'business_activity_Sales',\n",
    " 'business_activity_Retail',\n",
    " 'business_type_Manufacturing',\n",
    " 'business_sector_Food & Beverage',\n",
    " 'business_sector_Machine  Components',\n",
    " 'business_activity_Whole Sale',\n",
    " 'ManagAgeui_APP',\n",
    " 'business_activity_Job Work',\n",
    " 'business_sector_Textiles',\n",
    " 'cibil_category_LT_6_months',\n",
    " 'business_sector_Fabrication',\n",
    " 'business_sector_Auto Components'\n",
    "]"
   ]
  },
  {
   "cell_type": "code",
   "execution_count": 36,
   "metadata": {},
   "outputs": [],
   "source": [
    "X_train2 = X_train[var_list]"
   ]
  },
  {
   "cell_type": "code",
   "execution_count": 37,
   "metadata": {},
   "outputs": [],
   "source": [
    "X_test2 = X_test[var_list]"
   ]
  },
  {
   "cell_type": "code",
   "execution_count": 38,
   "metadata": {},
   "outputs": [],
   "source": [
    "train=xgb.DMatrix(X_train2, label=y_train)"
   ]
  },
  {
   "cell_type": "code",
   "execution_count": 39,
   "metadata": {},
   "outputs": [],
   "source": [
    "test=xgb.DMatrix(X_test2, label=y_test)"
   ]
  },
  {
   "cell_type": "code",
   "execution_count": 40,
   "metadata": {
    "scrolled": true
   },
   "outputs": [
    {
     "data": {
      "text/html": [
       "<div>\n",
       "<style scoped>\n",
       "    .dataframe tbody tr th:only-of-type {\n",
       "        vertical-align: middle;\n",
       "    }\n",
       "\n",
       "    .dataframe tbody tr th {\n",
       "        vertical-align: top;\n",
       "    }\n",
       "\n",
       "    .dataframe thead th {\n",
       "        text-align: right;\n",
       "    }\n",
       "</style>\n",
       "<table border=\"1\" class=\"dataframe\">\n",
       "  <thead>\n",
       "    <tr style=\"text-align: right;\">\n",
       "      <th></th>\n",
       "      <th>learning_rate</th>\n",
       "      <th>max_depth</th>\n",
       "      <th>min_child_weight</th>\n",
       "      <th>num_boost_round</th>\n",
       "    </tr>\n",
       "  </thead>\n",
       "  <tbody>\n",
       "    <tr>\n",
       "      <th>0</th>\n",
       "      <td>0.05</td>\n",
       "      <td>1</td>\n",
       "      <td>15</td>\n",
       "      <td>500</td>\n",
       "    </tr>\n",
       "    <tr>\n",
       "      <th>1</th>\n",
       "      <td>0.05</td>\n",
       "      <td>1</td>\n",
       "      <td>15</td>\n",
       "      <td>1000</td>\n",
       "    </tr>\n",
       "    <tr>\n",
       "      <th>2</th>\n",
       "      <td>0.05</td>\n",
       "      <td>1</td>\n",
       "      <td>30</td>\n",
       "      <td>500</td>\n",
       "    </tr>\n",
       "    <tr>\n",
       "      <th>3</th>\n",
       "      <td>0.05</td>\n",
       "      <td>1</td>\n",
       "      <td>30</td>\n",
       "      <td>1000</td>\n",
       "    </tr>\n",
       "    <tr>\n",
       "      <th>4</th>\n",
       "      <td>0.05</td>\n",
       "      <td>2</td>\n",
       "      <td>15</td>\n",
       "      <td>500</td>\n",
       "    </tr>\n",
       "    <tr>\n",
       "      <th>5</th>\n",
       "      <td>0.05</td>\n",
       "      <td>2</td>\n",
       "      <td>15</td>\n",
       "      <td>1000</td>\n",
       "    </tr>\n",
       "    <tr>\n",
       "      <th>6</th>\n",
       "      <td>0.05</td>\n",
       "      <td>2</td>\n",
       "      <td>30</td>\n",
       "      <td>500</td>\n",
       "    </tr>\n",
       "    <tr>\n",
       "      <th>7</th>\n",
       "      <td>0.05</td>\n",
       "      <td>2</td>\n",
       "      <td>30</td>\n",
       "      <td>1000</td>\n",
       "    </tr>\n",
       "    <tr>\n",
       "      <th>8</th>\n",
       "      <td>0.10</td>\n",
       "      <td>1</td>\n",
       "      <td>15</td>\n",
       "      <td>500</td>\n",
       "    </tr>\n",
       "    <tr>\n",
       "      <th>9</th>\n",
       "      <td>0.10</td>\n",
       "      <td>1</td>\n",
       "      <td>15</td>\n",
       "      <td>1000</td>\n",
       "    </tr>\n",
       "    <tr>\n",
       "      <th>10</th>\n",
       "      <td>0.10</td>\n",
       "      <td>1</td>\n",
       "      <td>30</td>\n",
       "      <td>500</td>\n",
       "    </tr>\n",
       "    <tr>\n",
       "      <th>11</th>\n",
       "      <td>0.10</td>\n",
       "      <td>1</td>\n",
       "      <td>30</td>\n",
       "      <td>1000</td>\n",
       "    </tr>\n",
       "    <tr>\n",
       "      <th>12</th>\n",
       "      <td>0.10</td>\n",
       "      <td>2</td>\n",
       "      <td>15</td>\n",
       "      <td>500</td>\n",
       "    </tr>\n",
       "    <tr>\n",
       "      <th>13</th>\n",
       "      <td>0.10</td>\n",
       "      <td>2</td>\n",
       "      <td>15</td>\n",
       "      <td>1000</td>\n",
       "    </tr>\n",
       "    <tr>\n",
       "      <th>14</th>\n",
       "      <td>0.10</td>\n",
       "      <td>2</td>\n",
       "      <td>30</td>\n",
       "      <td>500</td>\n",
       "    </tr>\n",
       "    <tr>\n",
       "      <th>15</th>\n",
       "      <td>0.10</td>\n",
       "      <td>2</td>\n",
       "      <td>30</td>\n",
       "      <td>1000</td>\n",
       "    </tr>\n",
       "  </tbody>\n",
       "</table>\n",
       "</div>"
      ],
      "text/plain": [
       "    learning_rate  max_depth  min_child_weight  num_boost_round\n",
       "0            0.05          1                15              500\n",
       "1            0.05          1                15             1000\n",
       "2            0.05          1                30              500\n",
       "3            0.05          1                30             1000\n",
       "4            0.05          2                15              500\n",
       "5            0.05          2                15             1000\n",
       "6            0.05          2                30              500\n",
       "7            0.05          2                30             1000\n",
       "8            0.10          1                15              500\n",
       "9            0.10          1                15             1000\n",
       "10           0.10          1                30              500\n",
       "11           0.10          1                30             1000\n",
       "12           0.10          2                15              500\n",
       "13           0.10          2                15             1000\n",
       "14           0.10          2                30              500\n",
       "15           0.10          2                30             1000"
      ]
     },
     "execution_count": 40,
     "metadata": {},
     "output_type": "execute_result"
    }
   ],
   "source": [
    "# grid search\n",
    "\n",
    "default_param_grid = { 'max_depth': [1,2],\n",
    "                      'learning_rate': [0.05, 0.1],\n",
    "                      'num_boost_round': [500, 1000],\n",
    "                      'min_child_weight': [15, 30]                     \n",
    "                     }\n",
    "\n",
    "col_names = ['max_depth', 'learning_rate', 'num_boost_round', 'min_child_weight', 'KS_dev', 'KS_itv']\n",
    "grid_search  = pd.DataFrame(columns = col_names)\n",
    "\n",
    "from sklearn.model_selection import ParameterGrid\n",
    "param_df  = list(ParameterGrid(default_param_grid))\n",
    "param_df = pd.DataFrame(param_df)\n",
    "param_df"
   ]
  },
  {
   "cell_type": "code",
   "execution_count": 41,
   "metadata": {},
   "outputs": [],
   "source": [
    "# function to calculate ks\n",
    "def KS_table_10(score, response):\n",
    "\n",
    " \n",
    "\n",
    "    print('getting KS..')\n",
    "\n",
    " \n",
    "\n",
    "    group = 10\n",
    "\n",
    " \n",
    "\n",
    "    df = pd.DataFrame({'score': score, 'response' : response})\n",
    "\n",
    " \n",
    "\n",
    "    df = df.sort_values(by = 'score', ascending = False)\n",
    "\n",
    " \n",
    "\n",
    "    bin_size = len(score)/group\n",
    "\n",
    " \n",
    "\n",
    "    rem = len(score) % group\n",
    "\n",
    " \n",
    "\n",
    "    df['groups'] = list(np.repeat(range(1,rem+1),bin_size + 1)) + list(np.repeat(range(rem+1,11), bin_size))\n",
    "\n",
    " \n",
    "\n",
    "    grouped = df.groupby('groups', as_index =False)\n",
    "\n",
    " \n",
    "\n",
    "    agg = pd.DataFrame({'Total_Obs': grouped.count().response})\n",
    "\n",
    " \n",
    "\n",
    "    agg['No.Res'] = grouped.sum().response\n",
    "\n",
    " \n",
    "\n",
    "    agg['No.Non_Res'] = agg['Total_Obs'] - agg['No.Res']\n",
    "\n",
    " \n",
    "\n",
    "    agg['min_pred'] = grouped.min().score\n",
    "\n",
    " \n",
    "\n",
    "    agg['max_pred'] = grouped.max().score\n",
    "\n",
    " \n",
    "\n",
    "    agg['pred_rr'] = grouped.mean().score\n",
    "\n",
    " \n",
    "\n",
    "    agg['cum_no_res'] = agg['No.Res'].cumsum()\n",
    "\n",
    " \n",
    "\n",
    "    agg['cum_no_non_res'] = agg['No.Non_Res'].cumsum()\n",
    "\n",
    " \n",
    "\n",
    "    agg['percent_cum_res'] = agg['cum_no_res']/agg['cum_no_res'].max()\n",
    "\n",
    "    agg['percent_cum_non_res'] = agg['cum_no_non_res']/agg['cum_no_non_res'].max()\n",
    "\n",
    " \n",
    "\n",
    "    agg['KS'] = agg['percent_cum_res'] - agg['percent_cum_non_res']\n",
    "\n",
    "    max_ks = agg['KS'].max()\n",
    "\n",
    "    return(agg, max_ks)"
   ]
  },
  {
   "cell_type": "code",
   "execution_count": 42,
   "metadata": {
    "scrolled": true
   },
   "outputs": [
    {
     "name": "stdout",
     "output_type": "stream",
     "text": [
      "getting KS..\n",
      "getting KS..\n",
      "getting KS..\n",
      "getting KS..\n",
      "getting KS..\n",
      "getting KS..\n",
      "getting KS..\n",
      "getting KS..\n",
      "getting KS..\n",
      "getting KS..\n",
      "getting KS..\n",
      "getting KS..\n",
      "getting KS..\n",
      "getting KS..\n",
      "getting KS..\n",
      "getting KS..\n",
      "getting KS..\n",
      "getting KS..\n",
      "getting KS..\n",
      "getting KS..\n",
      "getting KS..\n",
      "getting KS..\n",
      "getting KS..\n",
      "getting KS..\n",
      "getting KS..\n",
      "getting KS..\n",
      "getting KS..\n",
      "getting KS..\n",
      "getting KS..\n",
      "getting KS..\n",
      "getting KS..\n",
      "getting KS..\n"
     ]
    }
   ],
   "source": [
    "# grid earch loop\n",
    "\n",
    "for i in range(len(param_df)):\n",
    "    Xgb_gs = xgb.train({\n",
    "\n",
    "    'learning_rate': param_df['learning_rate'].iloc[i],\n",
    "    \n",
    "    'booster' : 'gbtree',\n",
    "\n",
    "    'objective': 'binary:logistic',\n",
    "\n",
    "    'max_depth': param_df['max_depth'].iloc[i],\n",
    "\n",
    "    'gamma':0,\n",
    "\n",
    "    'min_child_weight':param_df['min_child_weight'].iloc[i],\n",
    "\n",
    "    'seed' :1,\n",
    "\n",
    "    'verbose': True\n",
    "\n",
    "    }, dtrain=train, num_boost_round = param_df['num_boost_round'].iloc[i])\n",
    "    \n",
    "    \n",
    "    prob_train= Xgb_gs.predict(train)\n",
    "\n",
    "    ks_tab_dev, ks_dev = KS_table_10(prob_train,y_train)\n",
    "    \n",
    "    \n",
    "    prob_test= Xgb_gs.predict(test)\n",
    "\n",
    "    ks_tab_test, ks_test = KS_table_10(prob_test,y_test)\n",
    "    \n",
    "    grid_search.loc[len(grid_search)] = [param_df['max_depth'].iloc[i], param_df['learning_rate'].iloc[i], \n",
    "                                         param_df['num_boost_round'].iloc[i], param_df['min_child_weight'].iloc[i],ks_dev, ks_test]"
   ]
  },
  {
   "cell_type": "code",
   "execution_count": 43,
   "metadata": {
    "scrolled": true
   },
   "outputs": [
    {
     "data": {
      "text/html": [
       "<div>\n",
       "<style scoped>\n",
       "    .dataframe tbody tr th:only-of-type {\n",
       "        vertical-align: middle;\n",
       "    }\n",
       "\n",
       "    .dataframe tbody tr th {\n",
       "        vertical-align: top;\n",
       "    }\n",
       "\n",
       "    .dataframe thead th {\n",
       "        text-align: right;\n",
       "    }\n",
       "</style>\n",
       "<table border=\"1\" class=\"dataframe\">\n",
       "  <thead>\n",
       "    <tr style=\"text-align: right;\">\n",
       "      <th></th>\n",
       "      <th>max_depth</th>\n",
       "      <th>learning_rate</th>\n",
       "      <th>num_boost_round</th>\n",
       "      <th>min_child_weight</th>\n",
       "      <th>KS_dev</th>\n",
       "      <th>KS_itv</th>\n",
       "    </tr>\n",
       "  </thead>\n",
       "  <tbody>\n",
       "    <tr>\n",
       "      <th>0</th>\n",
       "      <td>1.0</td>\n",
       "      <td>0.05</td>\n",
       "      <td>500.0</td>\n",
       "      <td>15.0</td>\n",
       "      <td>0.504771</td>\n",
       "      <td>0.545764</td>\n",
       "    </tr>\n",
       "    <tr>\n",
       "      <th>1</th>\n",
       "      <td>1.0</td>\n",
       "      <td>0.05</td>\n",
       "      <td>1000.0</td>\n",
       "      <td>15.0</td>\n",
       "      <td>0.518903</td>\n",
       "      <td>0.545764</td>\n",
       "    </tr>\n",
       "    <tr>\n",
       "      <th>2</th>\n",
       "      <td>1.0</td>\n",
       "      <td>0.05</td>\n",
       "      <td>500.0</td>\n",
       "      <td>30.0</td>\n",
       "      <td>0.509582</td>\n",
       "      <td>0.547781</td>\n",
       "    </tr>\n",
       "    <tr>\n",
       "      <th>3</th>\n",
       "      <td>1.0</td>\n",
       "      <td>0.05</td>\n",
       "      <td>1000.0</td>\n",
       "      <td>30.0</td>\n",
       "      <td>0.516422</td>\n",
       "      <td>0.547781</td>\n",
       "    </tr>\n",
       "    <tr>\n",
       "      <th>4</th>\n",
       "      <td>2.0</td>\n",
       "      <td>0.05</td>\n",
       "      <td>500.0</td>\n",
       "      <td>15.0</td>\n",
       "      <td>0.535065</td>\n",
       "      <td>0.551233</td>\n",
       "    </tr>\n",
       "    <tr>\n",
       "      <th>5</th>\n",
       "      <td>2.0</td>\n",
       "      <td>0.05</td>\n",
       "      <td>1000.0</td>\n",
       "      <td>15.0</td>\n",
       "      <td>0.532885</td>\n",
       "      <td>0.547781</td>\n",
       "    </tr>\n",
       "    <tr>\n",
       "      <th>6</th>\n",
       "      <td>2.0</td>\n",
       "      <td>0.05</td>\n",
       "      <td>500.0</td>\n",
       "      <td>30.0</td>\n",
       "      <td>0.516422</td>\n",
       "      <td>0.553250</td>\n",
       "    </tr>\n",
       "    <tr>\n",
       "      <th>7</th>\n",
       "      <td>2.0</td>\n",
       "      <td>0.05</td>\n",
       "      <td>1000.0</td>\n",
       "      <td>30.0</td>\n",
       "      <td>0.532734</td>\n",
       "      <td>0.536842</td>\n",
       "    </tr>\n",
       "    <tr>\n",
       "      <th>8</th>\n",
       "      <td>1.0</td>\n",
       "      <td>0.10</td>\n",
       "      <td>500.0</td>\n",
       "      <td>15.0</td>\n",
       "      <td>0.507101</td>\n",
       "      <td>0.547781</td>\n",
       "    </tr>\n",
       "    <tr>\n",
       "      <th>9</th>\n",
       "      <td>1.0</td>\n",
       "      <td>0.10</td>\n",
       "      <td>1000.0</td>\n",
       "      <td>15.0</td>\n",
       "      <td>0.507101</td>\n",
       "      <td>0.542311</td>\n",
       "    </tr>\n",
       "    <tr>\n",
       "      <th>10</th>\n",
       "      <td>1.0</td>\n",
       "      <td>0.10</td>\n",
       "      <td>500.0</td>\n",
       "      <td>30.0</td>\n",
       "      <td>0.518753</td>\n",
       "      <td>0.547781</td>\n",
       "    </tr>\n",
       "    <tr>\n",
       "      <th>11</th>\n",
       "      <td>1.0</td>\n",
       "      <td>0.10</td>\n",
       "      <td>1000.0</td>\n",
       "      <td>30.0</td>\n",
       "      <td>0.516422</td>\n",
       "      <td>0.542311</td>\n",
       "    </tr>\n",
       "    <tr>\n",
       "      <th>12</th>\n",
       "      <td>2.0</td>\n",
       "      <td>0.10</td>\n",
       "      <td>500.0</td>\n",
       "      <td>15.0</td>\n",
       "      <td>0.535215</td>\n",
       "      <td>0.542311</td>\n",
       "    </tr>\n",
       "    <tr>\n",
       "      <th>13</th>\n",
       "      <td>2.0</td>\n",
       "      <td>0.10</td>\n",
       "      <td>1000.0</td>\n",
       "      <td>15.0</td>\n",
       "      <td>0.542357</td>\n",
       "      <td>0.529356</td>\n",
       "    </tr>\n",
       "    <tr>\n",
       "      <th>14</th>\n",
       "      <td>2.0</td>\n",
       "      <td>0.10</td>\n",
       "      <td>500.0</td>\n",
       "      <td>30.0</td>\n",
       "      <td>0.532885</td>\n",
       "      <td>0.547781</td>\n",
       "    </tr>\n",
       "    <tr>\n",
       "      <th>15</th>\n",
       "      <td>2.0</td>\n",
       "      <td>0.10</td>\n",
       "      <td>1000.0</td>\n",
       "      <td>30.0</td>\n",
       "      <td>0.542357</td>\n",
       "      <td>0.545764</td>\n",
       "    </tr>\n",
       "  </tbody>\n",
       "</table>\n",
       "</div>"
      ],
      "text/plain": [
       "    max_depth  learning_rate  num_boost_round  min_child_weight    KS_dev  \\\n",
       "0         1.0           0.05            500.0              15.0  0.504771   \n",
       "1         1.0           0.05           1000.0              15.0  0.518903   \n",
       "2         1.0           0.05            500.0              30.0  0.509582   \n",
       "3         1.0           0.05           1000.0              30.0  0.516422   \n",
       "4         2.0           0.05            500.0              15.0  0.535065   \n",
       "5         2.0           0.05           1000.0              15.0  0.532885   \n",
       "6         2.0           0.05            500.0              30.0  0.516422   \n",
       "7         2.0           0.05           1000.0              30.0  0.532734   \n",
       "8         1.0           0.10            500.0              15.0  0.507101   \n",
       "9         1.0           0.10           1000.0              15.0  0.507101   \n",
       "10        1.0           0.10            500.0              30.0  0.518753   \n",
       "11        1.0           0.10           1000.0              30.0  0.516422   \n",
       "12        2.0           0.10            500.0              15.0  0.535215   \n",
       "13        2.0           0.10           1000.0              15.0  0.542357   \n",
       "14        2.0           0.10            500.0              30.0  0.532885   \n",
       "15        2.0           0.10           1000.0              30.0  0.542357   \n",
       "\n",
       "      KS_itv  \n",
       "0   0.545764  \n",
       "1   0.545764  \n",
       "2   0.547781  \n",
       "3   0.547781  \n",
       "4   0.551233  \n",
       "5   0.547781  \n",
       "6   0.553250  \n",
       "7   0.536842  \n",
       "8   0.547781  \n",
       "9   0.542311  \n",
       "10  0.547781  \n",
       "11  0.542311  \n",
       "12  0.542311  \n",
       "13  0.529356  \n",
       "14  0.547781  \n",
       "15  0.545764  "
      ]
     },
     "execution_count": 43,
     "metadata": {},
     "output_type": "execute_result"
    }
   ],
   "source": [
    "grid_search"
   ]
  },
  {
   "cell_type": "code",
   "execution_count": 44,
   "metadata": {},
   "outputs": [],
   "source": [
    "# following parametrs are bassed on small randomized grid seach (above gs is just for illustration purpose,\n",
    "# here values were changed to achieve results)\n",
    "Xgb_iter2 = xgb.train({\n",
    "\n",
    "'learning_rate': 0.05,\n",
    "\n",
    "'booster' : 'gbtree',\n",
    "\n",
    "'objective': 'binary:logistic',\n",
    "\n",
    "'max_depth': 1,\n",
    "\n",
    "'gamma':0,\n",
    "\n",
    "'min_child_weight':15,\n",
    "\n",
    "'seed' :1,\n",
    "\n",
    "'verbose': True\n",
    "\n",
    "}, dtrain=train, num_boost_round = 1000)"
   ]
  },
  {
   "cell_type": "code",
   "execution_count": 45,
   "metadata": {},
   "outputs": [
    {
     "name": "stdout",
     "output_type": "stream",
     "text": [
      "getting KS..\n"
     ]
    }
   ],
   "source": [
    "# calculating ks on train\n",
    "prob_train= Xgb_iter2.predict(train)\n",
    "\n",
    "ks_dev = KS_table_10(prob_train,y_train)"
   ]
  },
  {
   "cell_type": "code",
   "execution_count": 46,
   "metadata": {},
   "outputs": [
    {
     "data": {
      "text/plain": [
       "(   Total_Obs  No.Res  No.Non_Res  min_pred  max_pred   pred_rr  cum_no_res  \\\n",
       " 0        174     169           5  0.956846  0.995000  0.970166         169   \n",
       " 1        174     167           7  0.934736  0.956846  0.947163         336   \n",
       " 2        174     145          29  0.746507  0.931297  0.839356         481   \n",
       " 3        173     118          55  0.530646  0.743469  0.631640         599   \n",
       " 4        173     100          73  0.490495  0.529871  0.502776         699   \n",
       " 5        173      79          94  0.461738  0.490495  0.477950         778   \n",
       " 6        173      80          93  0.399637  0.461738  0.431065         858   \n",
       " 7        173      65         108  0.277865  0.399476  0.373569         923   \n",
       " 8        173      26         147  0.166081  0.268260  0.219471         949   \n",
       " 9        173       2         171  0.022065  0.166081  0.088035         951   \n",
       " \n",
       "    cum_no_non_res  percent_cum_res  percent_cum_non_res        KS  \n",
       " 0               5         0.177708             0.006394  0.171314  \n",
       " 1              12         0.353312             0.015345  0.337967  \n",
       " 2              41         0.505783             0.052430  0.453354  \n",
       " 3              96         0.629863             0.122762  0.507101  \n",
       " 4             169         0.735016             0.216113  0.518903  \n",
       " 5             263         0.818086             0.336317  0.481769  \n",
       " 6             356         0.902208             0.455243  0.446965  \n",
       " 7             464         0.970557             0.593350  0.377207  \n",
       " 8             611         0.997897             0.781330  0.216567  \n",
       " 9             782         1.000000             1.000000  0.000000  ,\n",
       " 0.518903240901353)"
      ]
     },
     "execution_count": 46,
     "metadata": {},
     "output_type": "execute_result"
    }
   ],
   "source": [
    "ks_dev"
   ]
  },
  {
   "cell_type": "code",
   "execution_count": 47,
   "metadata": {},
   "outputs": [
    {
     "name": "stdout",
     "output_type": "stream",
     "text": [
      "getting KS..\n"
     ]
    }
   ],
   "source": [
    "# calculating ks on test \n",
    "prob_test= Xgb_iter2.predict(test)\n",
    "\n",
    "ks_test = KS_table_10(prob_test,y_test)"
   ]
  },
  {
   "cell_type": "code",
   "execution_count": 48,
   "metadata": {},
   "outputs": [
    {
     "data": {
      "text/plain": [
       "(   Total_Obs  No.Res  No.Non_Res  min_pred  max_pred   pred_rr  cum_no_res  \\\n",
       " 0         75      73           2  0.959250  0.994481  0.974711          73   \n",
       " 1         75      73           2  0.943619  0.959250  0.953390         146   \n",
       " 2         75      70           5  0.824020  0.943619  0.893417         216   \n",
       " 3         74      52          22  0.558469  0.824020  0.707751         268   \n",
       " 4         74      41          33  0.497916  0.558469  0.523183         309   \n",
       " 5         74      28          46  0.475556  0.497344  0.483647         337   \n",
       " 6         74      38          36  0.403927  0.475556  0.438658         375   \n",
       " 7         74      31          43  0.303199  0.400855  0.375650         406   \n",
       " 8         74      11          63  0.144351  0.303199  0.224462         417   \n",
       " 9         74       1          73  0.018069  0.143577  0.079530         418   \n",
       " \n",
       "    cum_no_non_res  percent_cum_res  percent_cum_non_res        KS  \n",
       " 0               2         0.174641             0.006154  0.168487  \n",
       " 1               4         0.349282             0.012308  0.336975  \n",
       " 2               9         0.516746             0.027692  0.489054  \n",
       " 3              31         0.641148             0.095385  0.545764  \n",
       " 4              64         0.739234             0.196923  0.542311  \n",
       " 5             110         0.806220             0.338462  0.467759  \n",
       " 6             146         0.897129             0.449231  0.447898  \n",
       " 7             189         0.971292             0.581538  0.389753  \n",
       " 8             252         0.997608             0.775385  0.222223  \n",
       " 9             325         1.000000             1.000000  0.000000  ,\n",
       " 0.5457637099742363)"
      ]
     },
     "execution_count": 48,
     "metadata": {},
     "output_type": "execute_result"
    }
   ],
   "source": [
    "# ks on test data is decent and within~10% of dev data showig that model is not overfiiting and is stable. ALso we are able to \n",
    "# captue more than 50% rsponders in top 3 deciles\n",
    "\n",
    "ks_test"
   ]
  },
  {
   "cell_type": "code",
   "execution_count": 49,
   "metadata": {},
   "outputs": [
    {
     "name": "stdout",
     "output_type": "stream",
     "text": [
      "Area under the ROC curve : 0.851695\n"
     ]
    }
   ],
   "source": [
    "# Auc values are also >>50% showing significant lift from random\n",
    "from sklearn.metrics import roc_curve, auc\n",
    "fpr, tpr, thresholds =roc_curve(y_train, prob_train)\n",
    "roc_auc = auc(fpr, tpr)\n",
    "print(\"Area under the ROC curve : %f\" % roc_auc)"
   ]
  },
  {
   "cell_type": "code",
   "execution_count": 50,
   "metadata": {},
   "outputs": [
    {
     "name": "stdout",
     "output_type": "stream",
     "text": [
      "Area under the ROC curve : 0.862587\n"
     ]
    }
   ],
   "source": [
    "# Auc values are also >>50% showing significant lift from random and within ~5 % from train showing model is not\n",
    "# overfitting and is stable\n",
    "from sklearn.metrics import roc_curve, auc\n",
    "fpr, tpr, thresholds =roc_curve(y_test, prob_test)\n",
    "roc_auc = auc(fpr, tpr)\n",
    "print(\"Area under the ROC curve : %f\" % roc_auc)"
   ]
  },
  {
   "cell_type": "code",
   "execution_count": 59,
   "metadata": {
    "scrolled": false
   },
   "outputs": [
    {
     "ename": "ExecutableNotFound",
     "evalue": "failed to execute ['dot', '-Tpng'], make sure the Graphviz executables are on your systems' PATH",
     "output_type": "error",
     "traceback": [
      "\u001b[1;31m---------------------------------------------------------------------------\u001b[0m",
      "\u001b[1;31mFileNotFoundError\u001b[0m                         Traceback (most recent call last)",
      "\u001b[1;32m~\\Anaconda3\\lib\\site-packages\\graphviz\\backend.py\u001b[0m in \u001b[0;36mrun\u001b[1;34m(cmd, input, capture_output, check, encoding, quiet, **kwargs)\u001b[0m\n\u001b[0;32m    163\u001b[0m         \u001b[0mkwargs\u001b[0m\u001b[1;33m[\u001b[0m\u001b[1;34m'stdout'\u001b[0m\u001b[1;33m]\u001b[0m \u001b[1;33m=\u001b[0m \u001b[0mkwargs\u001b[0m\u001b[1;33m[\u001b[0m\u001b[1;34m'stderr'\u001b[0m\u001b[1;33m]\u001b[0m \u001b[1;33m=\u001b[0m \u001b[0msubprocess\u001b[0m\u001b[1;33m.\u001b[0m\u001b[0mPIPE\u001b[0m\u001b[1;33m\u001b[0m\u001b[1;33m\u001b[0m\u001b[0m\n\u001b[1;32m--> 164\u001b[1;33m \u001b[1;33m\u001b[0m\u001b[0m\n\u001b[0m\u001b[0;32m    165\u001b[0m     \u001b[1;32mtry\u001b[0m\u001b[1;33m:\u001b[0m\u001b[1;33m\u001b[0m\u001b[1;33m\u001b[0m\u001b[0m\n",
      "\u001b[1;32m~\\Anaconda3\\lib\\subprocess.py\u001b[0m in \u001b[0;36m__init__\u001b[1;34m(self, args, bufsize, executable, stdin, stdout, stderr, preexec_fn, close_fds, shell, cwd, env, universal_newlines, startupinfo, creationflags, restore_signals, start_new_session, pass_fds, encoding, errors, text)\u001b[0m\n\u001b[0;32m    774\u001b[0m                                 \u001b[0merrread\u001b[0m\u001b[1;33m,\u001b[0m \u001b[0merrwrite\u001b[0m\u001b[1;33m,\u001b[0m\u001b[1;33m\u001b[0m\u001b[1;33m\u001b[0m\u001b[0m\n\u001b[1;32m--> 775\u001b[1;33m                                 restore_signals, start_new_session)\n\u001b[0m\u001b[0;32m    776\u001b[0m         \u001b[1;32mexcept\u001b[0m\u001b[1;33m:\u001b[0m\u001b[1;33m\u001b[0m\u001b[1;33m\u001b[0m\u001b[0m\n",
      "\u001b[1;32m~\\Anaconda3\\lib\\subprocess.py\u001b[0m in \u001b[0;36m_execute_child\u001b[1;34m(self, args, executable, preexec_fn, close_fds, pass_fds, cwd, env, startupinfo, creationflags, shell, p2cread, p2cwrite, c2pread, c2pwrite, errread, errwrite, unused_restore_signals, unused_start_new_session)\u001b[0m\n\u001b[0;32m   1177\u001b[0m                                          \u001b[0mos\u001b[0m\u001b[1;33m.\u001b[0m\u001b[0mfspath\u001b[0m\u001b[1;33m(\u001b[0m\u001b[0mcwd\u001b[0m\u001b[1;33m)\u001b[0m \u001b[1;32mif\u001b[0m \u001b[0mcwd\u001b[0m \u001b[1;32mis\u001b[0m \u001b[1;32mnot\u001b[0m \u001b[1;32mNone\u001b[0m \u001b[1;32melse\u001b[0m \u001b[1;32mNone\u001b[0m\u001b[1;33m,\u001b[0m\u001b[1;33m\u001b[0m\u001b[1;33m\u001b[0m\u001b[0m\n\u001b[1;32m-> 1178\u001b[1;33m                                          startupinfo)\n\u001b[0m\u001b[0;32m   1179\u001b[0m             \u001b[1;32mfinally\u001b[0m\u001b[1;33m:\u001b[0m\u001b[1;33m\u001b[0m\u001b[1;33m\u001b[0m\u001b[0m\n",
      "\u001b[1;31mFileNotFoundError\u001b[0m: [WinError 2] The system cannot find the file specified",
      "\nDuring handling of the above exception, another exception occurred:\n",
      "\u001b[1;31mExecutableNotFound\u001b[0m                        Traceback (most recent call last)",
      "\u001b[1;32m<ipython-input-59-ede2a0e7a127>\u001b[0m in \u001b[0;36m<module>\u001b[1;34m\u001b[0m\n\u001b[0;32m      6\u001b[0m \u001b[0mos\u001b[0m\u001b[1;33m.\u001b[0m\u001b[0menviron\u001b[0m\u001b[1;33m[\u001b[0m\u001b[1;34m\"PATH\"\u001b[0m\u001b[1;33m]\u001b[0m \u001b[1;33m+=\u001b[0m \u001b[0mos\u001b[0m\u001b[1;33m.\u001b[0m\u001b[0mpathsep\u001b[0m \u001b[1;33m+\u001b[0m \u001b[1;34m'C:/Users/gshik/Anaconda3/pkgs/graphviz-2.38-hfd603c8_2/Library/bin'\u001b[0m\u001b[1;33m\u001b[0m\u001b[1;33m\u001b[0m\u001b[0m\n\u001b[0;32m      7\u001b[0m \u001b[1;33m\u001b[0m\u001b[0m\n\u001b[1;32m----> 8\u001b[1;33m \u001b[0mplot_tree\u001b[0m\u001b[1;33m(\u001b[0m\u001b[0mXgb_iter2\u001b[0m\u001b[1;33m,\u001b[0m \u001b[0mrankdir\u001b[0m \u001b[1;33m=\u001b[0m \u001b[1;34m'LR'\u001b[0m\u001b[1;33m,\u001b[0m \u001b[0mnum_trees\u001b[0m \u001b[1;33m=\u001b[0m \u001b[1;36m4\u001b[0m\u001b[1;33m)\u001b[0m\u001b[1;33m\u001b[0m\u001b[1;33m\u001b[0m\u001b[0m\n\u001b[0m",
      "\u001b[1;32m~\\Anaconda3\\lib\\site-packages\\xgboost\\plotting.py\u001b[0m in \u001b[0;36mplot_tree\u001b[1;34m(booster, fmap, num_trees, rankdir, ax, **kwargs)\u001b[0m\n\u001b[0;32m    279\u001b[0m \u001b[1;33m\u001b[0m\u001b[0m\n\u001b[0;32m    280\u001b[0m     \u001b[0ms\u001b[0m \u001b[1;33m=\u001b[0m \u001b[0mBytesIO\u001b[0m\u001b[1;33m(\u001b[0m\u001b[1;33m)\u001b[0m\u001b[1;33m\u001b[0m\u001b[1;33m\u001b[0m\u001b[0m\n\u001b[1;32m--> 281\u001b[1;33m     \u001b[0ms\u001b[0m\u001b[1;33m.\u001b[0m\u001b[0mwrite\u001b[0m\u001b[1;33m(\u001b[0m\u001b[0mg\u001b[0m\u001b[1;33m.\u001b[0m\u001b[0mpipe\u001b[0m\u001b[1;33m(\u001b[0m\u001b[0mformat\u001b[0m\u001b[1;33m=\u001b[0m\u001b[1;34m'png'\u001b[0m\u001b[1;33m)\u001b[0m\u001b[1;33m)\u001b[0m\u001b[1;33m\u001b[0m\u001b[1;33m\u001b[0m\u001b[0m\n\u001b[0m\u001b[0;32m    282\u001b[0m     \u001b[0ms\u001b[0m\u001b[1;33m.\u001b[0m\u001b[0mseek\u001b[0m\u001b[1;33m(\u001b[0m\u001b[1;36m0\u001b[0m\u001b[1;33m)\u001b[0m\u001b[1;33m\u001b[0m\u001b[1;33m\u001b[0m\u001b[0m\n\u001b[0;32m    283\u001b[0m     \u001b[0mimg\u001b[0m \u001b[1;33m=\u001b[0m \u001b[0mimage\u001b[0m\u001b[1;33m.\u001b[0m\u001b[0mimread\u001b[0m\u001b[1;33m(\u001b[0m\u001b[0ms\u001b[0m\u001b[1;33m)\u001b[0m\u001b[1;33m\u001b[0m\u001b[1;33m\u001b[0m\u001b[0m\n",
      "\u001b[1;32m~\\Anaconda3\\lib\\site-packages\\graphviz\\files.py\u001b[0m in \u001b[0;36mpipe\u001b[1;34m(self, format, renderer, formatter, quiet)\u001b[0m\n\u001b[0;32m    136\u001b[0m         out = backend.pipe(self._engine, format, data,\n\u001b[0;32m    137\u001b[0m                            \u001b[0mrenderer\u001b[0m\u001b[1;33m=\u001b[0m\u001b[0mrenderer\u001b[0m\u001b[1;33m,\u001b[0m \u001b[0mformatter\u001b[0m\u001b[1;33m=\u001b[0m\u001b[0mformatter\u001b[0m\u001b[1;33m,\u001b[0m\u001b[1;33m\u001b[0m\u001b[1;33m\u001b[0m\u001b[0m\n\u001b[1;32m--> 138\u001b[1;33m                            quiet=quiet)\n\u001b[0m\u001b[0;32m    139\u001b[0m \u001b[1;33m\u001b[0m\u001b[0m\n\u001b[0;32m    140\u001b[0m         \u001b[1;32mreturn\u001b[0m \u001b[0mout\u001b[0m\u001b[1;33m\u001b[0m\u001b[1;33m\u001b[0m\u001b[0m\n",
      "\u001b[1;32m~\\Anaconda3\\lib\\site-packages\\graphviz\\backend.py\u001b[0m in \u001b[0;36mpipe\u001b[1;34m(engine, format, data, renderer, formatter, quiet)\u001b[0m\n\u001b[0;32m    242\u001b[0m         \u001b[0mgraphviz\u001b[0m\u001b[1;33m.\u001b[0m\u001b[0mExecutableNotFound\u001b[0m\u001b[1;33m:\u001b[0m \u001b[0mIf\u001b[0m \u001b[0mthe\u001b[0m \u001b[0mGraphviz\u001b[0m \u001b[0mexecutable\u001b[0m \u001b[1;32mis\u001b[0m \u001b[1;32mnot\u001b[0m \u001b[0mfound\u001b[0m\u001b[1;33m.\u001b[0m\u001b[1;33m\u001b[0m\u001b[1;33m\u001b[0m\u001b[0m\n\u001b[0;32m    243\u001b[0m         \u001b[0msubprocess\u001b[0m\u001b[1;33m.\u001b[0m\u001b[0mCalledProcessError\u001b[0m\u001b[1;33m:\u001b[0m \u001b[0mIf\u001b[0m \u001b[0mthe\u001b[0m \u001b[0mexit\u001b[0m \u001b[0mstatus\u001b[0m \u001b[1;32mis\u001b[0m \u001b[0mnon\u001b[0m\u001b[1;33m-\u001b[0m\u001b[0mzero\u001b[0m\u001b[1;33m.\u001b[0m\u001b[1;33m\u001b[0m\u001b[1;33m\u001b[0m\u001b[0m\n\u001b[1;32m--> 244\u001b[1;33m     \"\"\"\n\u001b[0m\u001b[0;32m    245\u001b[0m     \u001b[0mcmd\u001b[0m\u001b[1;33m,\u001b[0m \u001b[0m_\u001b[0m \u001b[1;33m=\u001b[0m \u001b[0mcommand\u001b[0m\u001b[1;33m(\u001b[0m\u001b[0mengine\u001b[0m\u001b[1;33m,\u001b[0m \u001b[0mformat\u001b[0m\u001b[1;33m,\u001b[0m \u001b[1;32mNone\u001b[0m\u001b[1;33m,\u001b[0m \u001b[0mrenderer\u001b[0m\u001b[1;33m,\u001b[0m \u001b[0mformatter\u001b[0m\u001b[1;33m)\u001b[0m\u001b[1;33m\u001b[0m\u001b[1;33m\u001b[0m\u001b[0m\n\u001b[0;32m    246\u001b[0m     \u001b[0mout\u001b[0m\u001b[1;33m,\u001b[0m \u001b[0m_\u001b[0m \u001b[1;33m=\u001b[0m \u001b[0mrun\u001b[0m\u001b[1;33m(\u001b[0m\u001b[0mcmd\u001b[0m\u001b[1;33m,\u001b[0m \u001b[0minput\u001b[0m\u001b[1;33m=\u001b[0m\u001b[0mdata\u001b[0m\u001b[1;33m,\u001b[0m \u001b[0mcapture_output\u001b[0m\u001b[1;33m=\u001b[0m\u001b[1;32mTrue\u001b[0m\u001b[1;33m,\u001b[0m \u001b[0mcheck\u001b[0m\u001b[1;33m=\u001b[0m\u001b[1;32mTrue\u001b[0m\u001b[1;33m,\u001b[0m \u001b[0mquiet\u001b[0m\u001b[1;33m=\u001b[0m\u001b[0mquiet\u001b[0m\u001b[1;33m)\u001b[0m\u001b[1;33m\u001b[0m\u001b[1;33m\u001b[0m\u001b[0m\n",
      "\u001b[1;32m~\\Anaconda3\\lib\\site-packages\\graphviz\\backend.py\u001b[0m in \u001b[0;36mrun\u001b[1;34m(cmd, input, capture_output, check, encoding, quiet, **kwargs)\u001b[0m\n\u001b[0;32m    165\u001b[0m     \u001b[1;32mtry\u001b[0m\u001b[1;33m:\u001b[0m\u001b[1;33m\u001b[0m\u001b[1;33m\u001b[0m\u001b[0m\n\u001b[0;32m    166\u001b[0m         \u001b[0mproc\u001b[0m \u001b[1;33m=\u001b[0m \u001b[0msubprocess\u001b[0m\u001b[1;33m.\u001b[0m\u001b[0mPopen\u001b[0m\u001b[1;33m(\u001b[0m\u001b[0mcmd\u001b[0m\u001b[1;33m,\u001b[0m \u001b[0mstartupinfo\u001b[0m\u001b[1;33m=\u001b[0m\u001b[0mget_startupinfo\u001b[0m\u001b[1;33m(\u001b[0m\u001b[1;33m)\u001b[0m\u001b[1;33m,\u001b[0m \u001b[1;33m**\u001b[0m\u001b[0mkwargs\u001b[0m\u001b[1;33m)\u001b[0m\u001b[1;33m\u001b[0m\u001b[1;33m\u001b[0m\u001b[0m\n\u001b[1;32m--> 167\u001b[1;33m     \u001b[1;32mexcept\u001b[0m \u001b[0mOSError\u001b[0m \u001b[1;32mas\u001b[0m \u001b[0me\u001b[0m\u001b[1;33m:\u001b[0m\u001b[1;33m\u001b[0m\u001b[1;33m\u001b[0m\u001b[0m\n\u001b[0m\u001b[0;32m    168\u001b[0m         \u001b[1;32mif\u001b[0m \u001b[0me\u001b[0m\u001b[1;33m.\u001b[0m\u001b[0merrno\u001b[0m \u001b[1;33m==\u001b[0m \u001b[0merrno\u001b[0m\u001b[1;33m.\u001b[0m\u001b[0mENOENT\u001b[0m\u001b[1;33m:\u001b[0m\u001b[1;33m\u001b[0m\u001b[1;33m\u001b[0m\u001b[0m\n\u001b[0;32m    169\u001b[0m             \u001b[1;32mraise\u001b[0m \u001b[0mExecutableNotFound\u001b[0m\u001b[1;33m(\u001b[0m\u001b[0mcmd\u001b[0m\u001b[1;33m)\u001b[0m\u001b[1;33m\u001b[0m\u001b[1;33m\u001b[0m\u001b[0m\n",
      "\u001b[1;31mExecutableNotFound\u001b[0m: failed to execute ['dot', '-Tpng'], make sure the Graphviz executables are on your systems' PATH"
     ]
    },
    {
     "data": {
      "image/png": "[encoded data removed]",
      "text/plain": [
       "<Figure size 432x288 with 1 Axes>"
      ]
     },
     "metadata": {
      "needs_background": "light"
     },
     "output_type": "display_data"
    }
   ],
   "source": [
    "# visulaizing trees for xgb\n",
    "\n",
    "from xgboost import plot_tree\n",
    "import graphviz\n",
    "import os\n",
    "os.environ[\"PATH\"] += os.pathsep + 'C:/Users/gshik/Anaconda3/pkgs/graphviz-2.38-hfd603c8_2/Library/bin'\n",
    "\n",
    "plot_tree(Xgb_iter2, rankdir = 'LR', num_trees = 4)"
   ]
  },
  {
   "cell_type": "markdown",
   "metadata": {},
   "source": [
    "# Problem 2 - Multiple Logistic Regression Implementation"
   ]
  },
  {
   "cell_type": "code",
   "execution_count": 78,
   "metadata": {},
   "outputs": [
    {
     "name": "stderr",
     "output_type": "stream",
     "text": [
      "C:\\Users\\gshik\\Anaconda3\\lib\\site-packages\\ipykernel_launcher.py:4: RuntimeWarning: invalid value encountered in true_divide\n",
      "  after removing the cwd from sys.path.\n"
     ]
    }
   ],
   "source": [
    "# X_train=X_train.drop(['target','total_disbursement_amount','Unnamed: 0'],axis=1)\n",
    "# mu=np.mean(X_train,axis=0)\n",
    "# sigma=np.std(X_train,axis=0)\n",
    "# X_train=(X_train-mu)/sigma\n"
   ]
  },
  {
   "cell_type": "code",
   "execution_count": 80,
   "metadata": {},
   "outputs": [],
   "source": [
    "# defining the sigmoid function\n",
    "def sigmoid(z):\n",
    "    \"\"\"\n",
    "    Compute the sigmoid of each value of X_train.\n",
    "    \"\"\"\n",
    "    \n",
    "    z = np.array(z)\n",
    "    \n",
    "   \n",
    "    g = np.zeros(z.shape)\n",
    "\n",
    "  \n",
    "    g=1/(1+np.exp(-z))\n",
    "    \n",
    "\n",
    "    return g"
   ]
  },
  {
   "cell_type": "code",
   "execution_count": 81,
   "metadata": {},
   "outputs": [
    {
     "name": "stdout",
     "output_type": "stream",
     "text": [
      "1733 17\n"
     ]
    }
   ],
   "source": [
    "# Setup the data matrix appropriately, and add ones for the intercept term of logistic regression in training and test dataset\n",
    "m, n = X_train2.shape\n",
    "print(m,n)\n",
    "# Adding intercept term to X_train \n",
    "X_train2 = np.concatenate([np.ones((m, 1)), X_train2], axis=1)\n",
    "m, n = X_test2.shape\n",
    "X_test2= np.concatenate([np.ones((m, 1)), X_test2], axis=1)\n",
    "# print(X_train.shape)"
   ]
  },
  {
   "cell_type": "code",
   "execution_count": 82,
   "metadata": {},
   "outputs": [
    {
     "data": {
      "text/plain": [
       "(1733, 18)"
      ]
     },
     "execution_count": 82,
     "metadata": {},
     "output_type": "execute_result"
    }
   ],
   "source": [
    "X_train2.shape"
   ]
  },
  {
   "cell_type": "code",
   "execution_count": 83,
   "metadata": {
    "scrolled": true
   },
   "outputs": [
    {
     "name": "stdout",
     "output_type": "stream",
     "text": [
      "0.6931471805599453\n"
     ]
    }
   ],
   "source": [
    "# defining logloss cost function\n",
    "\n",
    "# Computing cost for logistic regression with multiple variables.\n",
    "# Computing the cost, using theta as the parameter for logistic regression to fit the data points in X_tain and y_train.\n",
    "\n",
    "      \n",
    "def computeCostMulti(X, y, theta):\n",
    "    \n",
    "    m = y.shape[0] # number of training examples\n",
    "\n",
    "    J=np.sum(((-y*np.log(sigmoid(np.dot(X,theta))))+(-(1-y)*np.log(1-sigmoid(np.dot(X,theta))))))/m\n",
    "    #print(J)\n",
    "    return J\n",
    "\n",
    "theta=np.zeros(n+1) \n",
    "print(computeCostMulti(X_train2, y_train, theta))"
   ]
  },
  {
   "cell_type": "code",
   "execution_count": 84,
   "metadata": {},
   "outputs": [],
   "source": [
    "# function for gradient descent to learn and update theta.\n",
    "# Updating theta by taking num_iters gradient steps with learning rate alpha.\n",
    "        \n",
    "\n",
    "def gradientDescentMulti(X, y, theta, alpha, num_iters):\n",
    "\n",
    "    m = y.shape[0] # number of training examples\n",
    "    \n",
    "    # make a copy of theta, which will be updated by gradient descent\n",
    "    theta = theta.copy()\n",
    "    \n",
    "    J_history = []\n",
    "    \n",
    "    for i in range(num_iters):\n",
    "       \n",
    "        theta=theta-(alpha*((np.dot(((sigmoid(np.dot(X,theta))-y)),X))/m))\n",
    "        \n",
    "#         J_history.append(computeCostMulti(X, y, theta))\n",
    "    \n",
    "    return theta, J_history"
   ]
  },
  {
   "cell_type": "code",
   "execution_count": 85,
   "metadata": {
    "scrolled": true
   },
   "outputs": [
    {
     "name": "stdout",
     "output_type": "stream",
     "text": [
      "[ 0.00551431  0.00551431 -0.10475728 -0.04772784 -0.05167783  0.03087584\n",
      "  0.02529493 -0.02087495 -0.03220289 -0.00444025  0.01295735 -0.00236778\n",
      "  0.00801764  0.00787101  0.00361745  0.01103646  0.0057169   0.0049077 ]\n"
     ]
    }
   ],
   "source": [
    "# Choose some alpha & ierations  - change this for trying different implementaion\n",
    "alpha = 0.003\n",
    "num_iters = 400\n",
    "\n",
    "# init theta and run gradient descent\n",
    "theta = np.zeros(n+1)\n",
    "theta, J_history = gradientDescentMulti(X_train2, y_train, theta, alpha, num_iters)\n",
    "\n",
    "print(theta)"
   ]
  },
  {
   "cell_type": "code",
   "execution_count": 86,
   "metadata": {},
   "outputs": [],
   "source": [
    "# predicting probablities for test datasets on weights or coeff learned from training data\n",
    "def predict(theta, X):\n",
    "\n",
    "    m = X.shape[0] # Number of training examples\n",
    "\n",
    "    # You need to return the following variables correctly\n",
    "    \n",
    "    p = np.zeros(m)\n",
    "\n",
    "    p = sigmoid(np.dot(X, theta))\n",
    "    print(p)\n",
    "    return p"
   ]
  },
  {
   "cell_type": "code",
   "execution_count": 87,
   "metadata": {},
   "outputs": [
    {
     "name": "stdout",
     "output_type": "stream",
     "text": [
      "[0.51794465 0.53190316 0.56911974 ... 0.57990304 0.57152686 0.55380255]\n"
     ]
    },
    {
     "data": {
      "text/plain": [
       "array([0.51794465, 0.53190316, 0.56911974, ..., 0.57990304, 0.57152686,\n",
       "       0.55380255])"
      ]
     },
     "execution_count": 87,
     "metadata": {},
     "output_type": "execute_result"
    }
   ],
   "source": [
    "predict(theta, X_train2)"
   ]
  },
  {
   "cell_type": "code",
   "execution_count": 88,
   "metadata": {},
   "outputs": [
    {
     "name": "stdout",
     "output_type": "stream",
     "text": [
      "[0.53101891 0.55848188 0.5469553  0.52270026 0.58247545 0.55572106\n",
      " 0.54863373 0.51753781 0.52061604 0.57914262 0.55598734 0.50469084\n",
      " 0.52643233 0.57095848 0.59662292 0.56527613 0.52015646 0.51228401\n",
      " 0.55205003 0.55110334 0.52266387 0.54499106 0.53150101 0.55143734\n",
      " 0.53591005 0.56635134 0.52961355 0.53951096 0.55553076 0.57901392\n",
      " 0.52990641 0.56343475 0.53691026 0.54188681 0.52470017 0.54607003\n",
      " 0.52593868 0.52102435 0.56883469 0.58499977 0.59362119 0.50610314\n",
      " 0.56072914 0.52071438 0.54548201 0.54763834 0.51953946 0.50551967\n",
      " 0.56083933 0.54225162 0.54997164 0.52689302 0.56540588 0.54743498\n",
      " 0.56689173 0.53584776 0.56489759 0.53389092 0.53101891 0.54256222\n",
      " 0.52643233 0.51590592 0.55739329 0.55750955 0.52502464 0.55994947\n",
      " 0.53292102 0.54472586 0.54624309 0.55790358 0.53277222 0.54520791\n",
      " 0.55798904 0.51953946 0.56825284 0.55180409 0.58335388 0.5391531\n",
      " 0.50752239 0.55248297 0.54708614 0.58688538 0.51615295 0.54208301\n",
      " 0.55686897 0.55663583 0.55284612 0.5548896  0.52505599 0.58630934\n",
      " 0.56234225 0.55092569 0.51119236 0.52981986 0.55932377 0.54211586\n",
      " 0.56862949 0.55789582 0.53352988 0.50410028 0.54349213 0.5857703\n",
      " 0.56615503 0.518431   0.54703958 0.51504397 0.5652045  0.54459492\n",
      " 0.56453403 0.53149433 0.5106041  0.54599562 0.52429379 0.55840945\n",
      " 0.5469553  0.55445172 0.54520791 0.53092478 0.58693893 0.52723196\n",
      " 0.56561078 0.52753915 0.52614043 0.55811926 0.55003244 0.53193967\n",
      " 0.52214098 0.56737495 0.53899707 0.58109556 0.5609769  0.5679816\n",
      " 0.52102435 0.54036672 0.59082105 0.51360961 0.56250488 0.51750476\n",
      " 0.54945946 0.6062322  0.5690108  0.54434675 0.53813422 0.54317813\n",
      " 0.55279511 0.54321917 0.53565606 0.52065505 0.55544002 0.56207015\n",
      " 0.49660796 0.56049386 0.50300839 0.54306907 0.51581914 0.50061673\n",
      " 0.49861232 0.52071438 0.54746776 0.53626788 0.55672313 0.56013987\n",
      " 0.56340476 0.54544786 0.54548067 0.53813288 0.55143734 0.53893818\n",
      " 0.54147069 0.50992541 0.51977673 0.53588557 0.52192704 0.52505599\n",
      " 0.48976853 0.5224331  0.60104618 0.56911974 0.57154047 0.54012501\n",
      " 0.51350116 0.4930069  0.52102435 0.61149156 0.55179617 0.56420564\n",
      " 0.52067779 0.50348234 0.54661298 0.57153943 0.56711714 0.55848169\n",
      " 0.60828092 0.57121664 0.53951096 0.55345938 0.54754386 0.55996556\n",
      " 0.53225524 0.55430368 0.5354944  0.53153396 0.51467215 0.52215728\n",
      " 0.56737495 0.54012501 0.56023041 0.55094285 0.57914262 0.55316151\n",
      " 0.55737929 0.57080002 0.50501267 0.52043238 0.53900836 0.55599456\n",
      " 0.54499261 0.52043238 0.53576116 0.53101891 0.53830871 0.56535245\n",
      " 0.52643233 0.51726311 0.58438017 0.53498756 0.50548659 0.55795773\n",
      " 0.57276311 0.53157393 0.51099969 0.56343475 0.56592033 0.53552473\n",
      " 0.55553076 0.5619076  0.54062118 0.50935113 0.54639968 0.52069164\n",
      " 0.528661   0.51264049 0.57488201 0.54609346 0.53028903 0.53143984\n",
      " 0.56359295 0.53899707 0.57705834 0.58947969 0.54389637 0.56216886\n",
      " 0.55972078 0.5469553  0.57378131 0.57612062 0.52950406 0.52957702\n",
      " 0.56328744 0.54638513 0.60776965 0.52813165 0.51260743 0.51902316\n",
      " 0.55614103 0.57637914 0.54313944 0.53470124 0.53228559 0.55643148\n",
      " 0.53813288 0.52472624 0.52757916 0.55410864 0.54907201 0.54884768\n",
      " 0.55601069 0.54741389 0.53157393 0.57304751 0.52784307 0.54297893\n",
      " 0.56764528 0.55208713 0.5574189  0.53468653 0.57288438 0.51702135\n",
      " 0.52815521 0.58484375 0.56009566 0.5670435  0.55988018 0.52071438\n",
      " 0.5483539  0.59305996 0.58892023 0.60624574 0.53810938 0.57191194\n",
      " 0.5284307  0.53545223 0.56796418 0.56137112 0.52592666 0.55540038\n",
      " 0.52215728 0.51501901 0.51152973 0.55292563 0.60239789 0.53862936\n",
      " 0.51953946 0.5425405  0.52025994 0.53012925 0.58753809 0.55689363\n",
      " 0.51470877 0.53409229 0.53549315 0.54273679 0.54349213 0.5167112\n",
      " 0.57358684 0.54916482 0.57446678 0.53500217 0.56588348 0.55807969\n",
      " 0.5391531  0.50548524 0.52464964 0.55156794 0.53463612 0.52689302\n",
      " 0.56038707 0.56082324 0.53392741 0.53501023 0.55445172 0.54822961\n",
      " 0.51393193 0.60654219 0.5146434  0.54548067 0.50863351 0.54694218\n",
      " 0.5376497  0.55266727 0.57655347 0.55254284 0.54821556 0.53025607\n",
      " 0.54495318 0.5520487  0.53891444 0.5535502  0.53826881 0.54951189\n",
      " 0.50069352 0.54544786 0.52185275 0.56156564 0.52226072 0.49978915\n",
      " 0.5434593  0.52953703 0.51750476 0.53928899 0.50210405 0.55625091\n",
      " 0.54152123 0.51753915 0.52829151 0.51011088 0.57780879 0.56628472\n",
      " 0.54565137 0.53464227 0.54834633 0.54808009 0.53878321 0.53713217\n",
      " 0.5510483  0.55937037 0.57494831 0.55017247 0.52445087 0.55254266\n",
      " 0.51628953 0.55004179 0.53898239 0.54211586 0.5754929  0.53356983\n",
      " 0.52868956 0.5215596  0.53751844 0.51603494 0.55227843 0.5465886\n",
      " 0.58196613 0.57326915 0.57850968 0.55103378 0.52993497 0.54548067\n",
      " 0.54512354 0.56918253 0.49657488 0.54457262 0.51152973 0.53101891\n",
      " 0.54561158 0.51190022 0.56404268 0.54512354 0.54350621 0.55255057\n",
      " 0.53643216 0.55416101 0.56222982 0.56825284 0.53668073 0.55429613\n",
      " 0.5143271  0.54231322 0.51286853 0.57276311 0.51955858 0.52105571\n",
      " 0.54087476 0.53945693 0.52953703 0.54872817 0.55365462 0.54255428\n",
      " 0.51070257 0.56023794 0.57900819 0.52643233 0.56164349 0.59389374\n",
      " 0.56586743 0.49518854 0.533544   0.54356834 0.5366132  0.54952938\n",
      " 0.56482925 0.56870519 0.54549474 0.54451053 0.55703087 0.53853885\n",
      " 0.5411962  0.57544906 0.58410956 0.52753915 0.57245356 0.58125212\n",
      " 0.53104224 0.53277222 0.51149667 0.50949314 0.56588348 0.57166976\n",
      " 0.5546486  0.51353288 0.54544786 0.52957702 0.52229374 0.53467606\n",
      " 0.58516062 0.56043485 0.4971125  0.53556466 0.58723453 0.5817765\n",
      " 0.56095229 0.56101995 0.57657787 0.52378743 0.52015646 0.52871226\n",
      " 0.5546486  0.57262877 0.52193908 0.53101891 0.54053073 0.54434675\n",
      " 0.55689363 0.5350415  0.52415738 0.53389889 0.53923763 0.58155279\n",
      " 0.54767466 0.56579062 0.54571633 0.55498302 0.52753915 0.54724641\n",
      " 0.54224692 0.52445087 0.54111172 0.52661578 0.55438783 0.54459492\n",
      " 0.55737929 0.5548896  0.56807963 0.5660239  0.53414502 0.52944286\n",
      " 0.51861472 0.55156794 0.56751652 0.50952622 0.58499377 0.53987931\n",
      " 0.56859269 0.56834391 0.54235741 0.54618456 0.53013654 0.55332629\n",
      " 0.52554039 0.55156794 0.53270594 0.52518595 0.5055951  0.52757916\n",
      " 0.60289931 0.51503036 0.53214943 0.55364194 0.57987074 0.52858154\n",
      " 0.56853004 0.56554657 0.55394494 0.54190672 0.53011984 0.54154206\n",
      " 0.51839796 0.53656346 0.59624438 0.53964213 0.56129901 0.57130664\n",
      " 0.55314781 0.55985194 0.54620815 0.51149667 0.56056492 0.49546489\n",
      " 0.54239026 0.51664585 0.57262597 0.53213317 0.55426009 0.510882\n",
      " 0.51349982 0.57901392 0.54424103 0.55966858 0.54658266 0.58019748\n",
      " 0.57103719 0.53782952 0.55303901 0.58947969 0.53931616 0.56171303\n",
      " 0.54943108 0.51590592 0.52785105 0.56249039 0.52869753 0.55256519\n",
      " 0.54960301 0.53470124 0.56614752 0.55987242 0.54465982 0.55195109\n",
      " 0.58361555 0.54039959 0.53724495 0.52215728 0.53840763 0.55563509\n",
      " 0.5434593  0.52953703 0.54100588 0.54708614 0.55598734 0.50792165\n",
      " 0.51615429 0.56488962 0.52392724 0.54111977 0.53463612 0.56934189\n",
      " 0.56489759 0.52271501 0.57807737 0.57349488 0.5985857  0.5106041\n",
      " 0.50778495 0.54223071 0.51149667 0.55517976 0.554875   0.54408191\n",
      " 0.55544002 0.59942738 0.54457781 0.53101891 0.54746776 0.53635193\n",
      " 0.52150746 0.59855098 0.6008516  0.53157393 0.52354082 0.55345938\n",
      " 0.55273197 0.5608092  0.54686164 0.58326455 0.55763844 0.51012763\n",
      " 0.53070959 0.55789138 0.53211648 0.51950777 0.54235741 0.56114998\n",
      " 0.51550254 0.55108104 0.59119956 0.59032095 0.53987931 0.56861247\n",
      " 0.52102435 0.50756251 0.53866069 0.52136566 0.54150834 0.52780653\n",
      " 0.53228559 0.5246636  0.53859052 0.58211256 0.55058211 0.52259798\n",
      " 0.54821087 0.51350116 0.56628472 0.52495374 0.5106041  0.52813165\n",
      " 0.50376124 0.55144346 0.58342253 0.55750955 0.52066304 0.51353288\n",
      " 0.53899187 0.52154048 0.5222999  0.53116589 0.56737495 0.53918497\n",
      " 0.54584827 0.51152973 0.53028903 0.54408917 0.54327046 0.53977747\n",
      " 0.58109556 0.52643233 0.53069487 0.55303901 0.50459233 0.56614752\n",
      " 0.59082105 0.51642903 0.51465739 0.51812195 0.52178719 0.50623985\n",
      " 0.56648102 0.5349162  0.55061839 0.51012032 0.54808009 0.59082105\n",
      " 0.52369315 0.58094514 0.53503353 0.54985667 0.50752239 0.51012763\n",
      " 0.55935639 0.56527613 0.55699127 0.54708614 0.5176145  0.53640685\n",
      " 0.51300294 0.57422735 0.51690683 0.54287709 0.54012501 0.51871309\n",
      " 0.58544978 0.57350167 0.56343475 0.51704631 0.53438717 0.52582347\n",
      " 0.54509876 0.56023041 0.51776705 0.56444009 0.51433211 0.58499377\n",
      " 0.52989844 0.53556466 0.57200976 0.53752459 0.53189519 0.51464939\n",
      " 0.50237098 0.52753915 0.55839189 0.52869753 0.53065038]\n",
      "getting KS..\n"
     ]
    }
   ],
   "source": [
    "prob_test= predict(theta, X_test2)\n",
    "ks_test = KS_table_10(prob_test,y_test)"
   ]
  },
  {
   "cell_type": "code",
   "execution_count": 89,
   "metadata": {},
   "outputs": [
    {
     "data": {
      "text/html": [
       "<div>\n",
       "<style scoped>\n",
       "    .dataframe tbody tr th:only-of-type {\n",
       "        vertical-align: middle;\n",
       "    }\n",
       "\n",
       "    .dataframe tbody tr th {\n",
       "        vertical-align: top;\n",
       "    }\n",
       "\n",
       "    .dataframe thead th {\n",
       "        text-align: right;\n",
       "    }\n",
       "</style>\n",
       "<table border=\"1\" class=\"dataframe\">\n",
       "  <thead>\n",
       "    <tr style=\"text-align: right;\">\n",
       "      <th></th>\n",
       "      <th>Total_Obs</th>\n",
       "      <th>No.Res</th>\n",
       "      <th>No.Non_Res</th>\n",
       "      <th>min_pred</th>\n",
       "      <th>max_pred</th>\n",
       "      <th>pred_rr</th>\n",
       "      <th>cum_no_res</th>\n",
       "      <th>cum_no_non_res</th>\n",
       "      <th>percent_cum_res</th>\n",
       "      <th>percent_cum_non_res</th>\n",
       "      <th>KS</th>\n",
       "    </tr>\n",
       "  </thead>\n",
       "  <tbody>\n",
       "    <tr>\n",
       "      <th>0</th>\n",
       "      <td>75</td>\n",
       "      <td>63</td>\n",
       "      <td>12</td>\n",
       "      <td>0.573781</td>\n",
       "      <td>0.611492</td>\n",
       "      <td>0.586785</td>\n",
       "      <td>63</td>\n",
       "      <td>12</td>\n",
       "      <td>0.150718</td>\n",
       "      <td>0.036923</td>\n",
       "      <td>0.113795</td>\n",
       "    </tr>\n",
       "    <tr>\n",
       "      <th>1</th>\n",
       "      <td>75</td>\n",
       "      <td>54</td>\n",
       "      <td>21</td>\n",
       "      <td>0.563435</td>\n",
       "      <td>0.573587</td>\n",
       "      <td>0.568179</td>\n",
       "      <td>117</td>\n",
       "      <td>33</td>\n",
       "      <td>0.279904</td>\n",
       "      <td>0.101538</td>\n",
       "      <td>0.178366</td>\n",
       "    </tr>\n",
       "    <tr>\n",
       "      <th>2</th>\n",
       "      <td>75</td>\n",
       "      <td>51</td>\n",
       "      <td>24</td>\n",
       "      <td>0.555987</td>\n",
       "      <td>0.563435</td>\n",
       "      <td>0.559422</td>\n",
       "      <td>168</td>\n",
       "      <td>57</td>\n",
       "      <td>0.401914</td>\n",
       "      <td>0.175385</td>\n",
       "      <td>0.226529</td>\n",
       "    </tr>\n",
       "    <tr>\n",
       "      <th>3</th>\n",
       "      <td>74</td>\n",
       "      <td>61</td>\n",
       "      <td>13</td>\n",
       "      <td>0.549431</td>\n",
       "      <td>0.555721</td>\n",
       "      <td>0.552693</td>\n",
       "      <td>229</td>\n",
       "      <td>70</td>\n",
       "      <td>0.547847</td>\n",
       "      <td>0.215385</td>\n",
       "      <td>0.332462</td>\n",
       "    </tr>\n",
       "    <tr>\n",
       "      <th>4</th>\n",
       "      <td>74</td>\n",
       "      <td>38</td>\n",
       "      <td>36</td>\n",
       "      <td>0.543568</td>\n",
       "      <td>0.549165</td>\n",
       "      <td>0.546247</td>\n",
       "      <td>267</td>\n",
       "      <td>106</td>\n",
       "      <td>0.638756</td>\n",
       "      <td>0.326154</td>\n",
       "      <td>0.312602</td>\n",
       "    </tr>\n",
       "    <tr>\n",
       "      <th>5</th>\n",
       "      <td>74</td>\n",
       "      <td>36</td>\n",
       "      <td>38</td>\n",
       "      <td>0.538133</td>\n",
       "      <td>0.543506</td>\n",
       "      <td>0.540807</td>\n",
       "      <td>303</td>\n",
       "      <td>144</td>\n",
       "      <td>0.724880</td>\n",
       "      <td>0.443077</td>\n",
       "      <td>0.281803</td>\n",
       "    </tr>\n",
       "    <tr>\n",
       "      <th>6</th>\n",
       "      <td>74</td>\n",
       "      <td>36</td>\n",
       "      <td>38</td>\n",
       "      <td>0.531019</td>\n",
       "      <td>0.538133</td>\n",
       "      <td>0.534303</td>\n",
       "      <td>339</td>\n",
       "      <td>182</td>\n",
       "      <td>0.811005</td>\n",
       "      <td>0.560000</td>\n",
       "      <td>0.251005</td>\n",
       "    </tr>\n",
       "    <tr>\n",
       "      <th>7</th>\n",
       "      <td>74</td>\n",
       "      <td>33</td>\n",
       "      <td>41</td>\n",
       "      <td>0.523693</td>\n",
       "      <td>0.531019</td>\n",
       "      <td>0.527649</td>\n",
       "      <td>372</td>\n",
       "      <td>223</td>\n",
       "      <td>0.889952</td>\n",
       "      <td>0.686154</td>\n",
       "      <td>0.203798</td>\n",
       "    </tr>\n",
       "    <tr>\n",
       "      <th>8</th>\n",
       "      <td>74</td>\n",
       "      <td>28</td>\n",
       "      <td>46</td>\n",
       "      <td>0.515030</td>\n",
       "      <td>0.523541</td>\n",
       "      <td>0.519564</td>\n",
       "      <td>400</td>\n",
       "      <td>269</td>\n",
       "      <td>0.956938</td>\n",
       "      <td>0.827692</td>\n",
       "      <td>0.129245</td>\n",
       "    </tr>\n",
       "    <tr>\n",
       "      <th>9</th>\n",
       "      <td>74</td>\n",
       "      <td>18</td>\n",
       "      <td>56</td>\n",
       "      <td>0.489769</td>\n",
       "      <td>0.515019</td>\n",
       "      <td>0.507957</td>\n",
       "      <td>418</td>\n",
       "      <td>325</td>\n",
       "      <td>1.000000</td>\n",
       "      <td>1.000000</td>\n",
       "      <td>0.000000</td>\n",
       "    </tr>\n",
       "  </tbody>\n",
       "</table>\n",
       "</div>"
      ],
      "text/plain": [
       "   Total_Obs  No.Res  No.Non_Res  min_pred  max_pred   pred_rr  cum_no_res  \\\n",
       "0         75      63          12  0.573781  0.611492  0.586785          63   \n",
       "1         75      54          21  0.563435  0.573587  0.568179         117   \n",
       "2         75      51          24  0.555987  0.563435  0.559422         168   \n",
       "3         74      61          13  0.549431  0.555721  0.552693         229   \n",
       "4         74      38          36  0.543568  0.549165  0.546247         267   \n",
       "5         74      36          38  0.538133  0.543506  0.540807         303   \n",
       "6         74      36          38  0.531019  0.538133  0.534303         339   \n",
       "7         74      33          41  0.523693  0.531019  0.527649         372   \n",
       "8         74      28          46  0.515030  0.523541  0.519564         400   \n",
       "9         74      18          56  0.489769  0.515019  0.507957         418   \n",
       "\n",
       "   cum_no_non_res  percent_cum_res  percent_cum_non_res        KS  \n",
       "0              12         0.150718             0.036923  0.113795  \n",
       "1              33         0.279904             0.101538  0.178366  \n",
       "2              57         0.401914             0.175385  0.226529  \n",
       "3              70         0.547847             0.215385  0.332462  \n",
       "4             106         0.638756             0.326154  0.312602  \n",
       "5             144         0.724880             0.443077  0.281803  \n",
       "6             182         0.811005             0.560000  0.251005  \n",
       "7             223         0.889952             0.686154  0.203798  \n",
       "8             269         0.956938             0.827692  0.129245  \n",
       "9             325         1.000000             1.000000  0.000000  "
      ]
     },
     "execution_count": 89,
     "metadata": {},
     "output_type": "execute_result"
    }
   ],
   "source": [
    "ks_test"
   ]
  },
  {
   "cell_type": "code",
   "execution_count": 90,
   "metadata": {},
   "outputs": [
    {
     "name": "stdout",
     "output_type": "stream",
     "text": [
      "[0.51794465 0.53190316 0.56911974 ... 0.57990304 0.57152686 0.55380255]\n",
      "getting KS..\n"
     ]
    }
   ],
   "source": [
    "prob_test= predict(theta, X_train2)\n",
    "ks_test = KS_table_10(prob_test,y_train)"
   ]
  },
  {
   "cell_type": "code",
   "execution_count": 91,
   "metadata": {},
   "outputs": [
    {
     "data": {
      "text/html": [
       "<div>\n",
       "<style scoped>\n",
       "    .dataframe tbody tr th:only-of-type {\n",
       "        vertical-align: middle;\n",
       "    }\n",
       "\n",
       "    .dataframe tbody tr th {\n",
       "        vertical-align: top;\n",
       "    }\n",
       "\n",
       "    .dataframe thead th {\n",
       "        text-align: right;\n",
       "    }\n",
       "</style>\n",
       "<table border=\"1\" class=\"dataframe\">\n",
       "  <thead>\n",
       "    <tr style=\"text-align: right;\">\n",
       "      <th></th>\n",
       "      <th>Total_Obs</th>\n",
       "      <th>No.Res</th>\n",
       "      <th>No.Non_Res</th>\n",
       "      <th>min_pred</th>\n",
       "      <th>max_pred</th>\n",
       "      <th>pred_rr</th>\n",
       "      <th>cum_no_res</th>\n",
       "      <th>cum_no_non_res</th>\n",
       "      <th>percent_cum_res</th>\n",
       "      <th>percent_cum_non_res</th>\n",
       "      <th>KS</th>\n",
       "    </tr>\n",
       "  </thead>\n",
       "  <tbody>\n",
       "    <tr>\n",
       "      <th>0</th>\n",
       "      <td>174</td>\n",
       "      <td>151</td>\n",
       "      <td>23</td>\n",
       "      <td>0.573458</td>\n",
       "      <td>0.625776</td>\n",
       "      <td>0.585816</td>\n",
       "      <td>151</td>\n",
       "      <td>23</td>\n",
       "      <td>0.158780</td>\n",
       "      <td>0.029412</td>\n",
       "      <td>0.129368</td>\n",
       "    </tr>\n",
       "    <tr>\n",
       "      <th>1</th>\n",
       "      <td>174</td>\n",
       "      <td>133</td>\n",
       "      <td>41</td>\n",
       "      <td>0.562951</td>\n",
       "      <td>0.573450</td>\n",
       "      <td>0.567908</td>\n",
       "      <td>284</td>\n",
       "      <td>64</td>\n",
       "      <td>0.298633</td>\n",
       "      <td>0.081841</td>\n",
       "      <td>0.216792</td>\n",
       "    </tr>\n",
       "    <tr>\n",
       "      <th>2</th>\n",
       "      <td>174</td>\n",
       "      <td>115</td>\n",
       "      <td>59</td>\n",
       "      <td>0.554583</td>\n",
       "      <td>0.562926</td>\n",
       "      <td>0.558481</td>\n",
       "      <td>399</td>\n",
       "      <td>123</td>\n",
       "      <td>0.419558</td>\n",
       "      <td>0.157289</td>\n",
       "      <td>0.262269</td>\n",
       "    </tr>\n",
       "    <tr>\n",
       "      <th>3</th>\n",
       "      <td>173</td>\n",
       "      <td>112</td>\n",
       "      <td>61</td>\n",
       "      <td>0.548552</td>\n",
       "      <td>0.554518</td>\n",
       "      <td>0.551479</td>\n",
       "      <td>511</td>\n",
       "      <td>184</td>\n",
       "      <td>0.537329</td>\n",
       "      <td>0.235294</td>\n",
       "      <td>0.302035</td>\n",
       "    </tr>\n",
       "    <tr>\n",
       "      <th>4</th>\n",
       "      <td>173</td>\n",
       "      <td>92</td>\n",
       "      <td>81</td>\n",
       "      <td>0.541899</td>\n",
       "      <td>0.548489</td>\n",
       "      <td>0.545207</td>\n",
       "      <td>603</td>\n",
       "      <td>265</td>\n",
       "      <td>0.634069</td>\n",
       "      <td>0.338875</td>\n",
       "      <td>0.295195</td>\n",
       "    </tr>\n",
       "    <tr>\n",
       "      <th>5</th>\n",
       "      <td>173</td>\n",
       "      <td>93</td>\n",
       "      <td>80</td>\n",
       "      <td>0.535565</td>\n",
       "      <td>0.541870</td>\n",
       "      <td>0.538708</td>\n",
       "      <td>696</td>\n",
       "      <td>345</td>\n",
       "      <td>0.731861</td>\n",
       "      <td>0.441176</td>\n",
       "      <td>0.290685</td>\n",
       "    </tr>\n",
       "    <tr>\n",
       "      <th>6</th>\n",
       "      <td>173</td>\n",
       "      <td>83</td>\n",
       "      <td>90</td>\n",
       "      <td>0.529923</td>\n",
       "      <td>0.535531</td>\n",
       "      <td>0.532669</td>\n",
       "      <td>779</td>\n",
       "      <td>435</td>\n",
       "      <td>0.819138</td>\n",
       "      <td>0.556266</td>\n",
       "      <td>0.262872</td>\n",
       "    </tr>\n",
       "    <tr>\n",
       "      <th>7</th>\n",
       "      <td>173</td>\n",
       "      <td>83</td>\n",
       "      <td>90</td>\n",
       "      <td>0.523508</td>\n",
       "      <td>0.529906</td>\n",
       "      <td>0.526614</td>\n",
       "      <td>862</td>\n",
       "      <td>525</td>\n",
       "      <td>0.906414</td>\n",
       "      <td>0.671355</td>\n",
       "      <td>0.235059</td>\n",
       "    </tr>\n",
       "    <tr>\n",
       "      <th>8</th>\n",
       "      <td>173</td>\n",
       "      <td>53</td>\n",
       "      <td>120</td>\n",
       "      <td>0.515148</td>\n",
       "      <td>0.523468</td>\n",
       "      <td>0.519810</td>\n",
       "      <td>915</td>\n",
       "      <td>645</td>\n",
       "      <td>0.962145</td>\n",
       "      <td>0.824808</td>\n",
       "      <td>0.137337</td>\n",
       "    </tr>\n",
       "    <tr>\n",
       "      <th>9</th>\n",
       "      <td>173</td>\n",
       "      <td>36</td>\n",
       "      <td>137</td>\n",
       "      <td>0.488559</td>\n",
       "      <td>0.515014</td>\n",
       "      <td>0.508101</td>\n",
       "      <td>951</td>\n",
       "      <td>782</td>\n",
       "      <td>1.000000</td>\n",
       "      <td>1.000000</td>\n",
       "      <td>0.000000</td>\n",
       "    </tr>\n",
       "  </tbody>\n",
       "</table>\n",
       "</div>"
      ],
      "text/plain": [
       "   Total_Obs  No.Res  No.Non_Res  min_pred  max_pred   pred_rr  cum_no_res  \\\n",
       "0        174     151          23  0.573458  0.625776  0.585816         151   \n",
       "1        174     133          41  0.562951  0.573450  0.567908         284   \n",
       "2        174     115          59  0.554583  0.562926  0.558481         399   \n",
       "3        173     112          61  0.548552  0.554518  0.551479         511   \n",
       "4        173      92          81  0.541899  0.548489  0.545207         603   \n",
       "5        173      93          80  0.535565  0.541870  0.538708         696   \n",
       "6        173      83          90  0.529923  0.535531  0.532669         779   \n",
       "7        173      83          90  0.523508  0.529906  0.526614         862   \n",
       "8        173      53         120  0.515148  0.523468  0.519810         915   \n",
       "9        173      36         137  0.488559  0.515014  0.508101         951   \n",
       "\n",
       "   cum_no_non_res  percent_cum_res  percent_cum_non_res        KS  \n",
       "0              23         0.158780             0.029412  0.129368  \n",
       "1              64         0.298633             0.081841  0.216792  \n",
       "2             123         0.419558             0.157289  0.262269  \n",
       "3             184         0.537329             0.235294  0.302035  \n",
       "4             265         0.634069             0.338875  0.295195  \n",
       "5             345         0.731861             0.441176  0.290685  \n",
       "6             435         0.819138             0.556266  0.262872  \n",
       "7             525         0.906414             0.671355  0.235059  \n",
       "8             645         0.962145             0.824808  0.137337  \n",
       "9             782         1.000000             1.000000  0.000000  "
      ]
     },
     "execution_count": 91,
     "metadata": {},
     "output_type": "execute_result"
    }
   ],
   "source": [
    "ks_test"
   ]
  },
  {
   "cell_type": "code",
   "execution_count": null,
   "metadata": {},
   "outputs": [],
   "source": []
  }
 ],
 "metadata": {
  "kernelspec": {
   "display_name": "Python 3",
   "language": "python",
   "name": "python3"
  },
  "language_info": {
   "codemirror_mode": {
    "name": "ipython",
    "version": 3
   },
   "file_extension": ".py",
   "mimetype": "text/x-python",
   "name": "python",
   "nbconvert_exporter": "python",
   "pygments_lexer": "ipython3",
   "version": "3.7.3"
  }
 },
 "nbformat": 4,
 "nbformat_minor": 2
}

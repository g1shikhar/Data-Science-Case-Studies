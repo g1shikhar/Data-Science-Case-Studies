{
 "cells": [
  {
   "cell_type": "code",
   "execution_count": 2,
   "metadata": {},
   "outputs": [],
   "source": [
    "import pandas as pd\n",
    "import numpy as np\n",
    "%matplotlib inline\n",
    "import sqlalchemy"
   ]
  },
  {
   "cell_type": "code",
   "execution_count": 3,
   "metadata": {},
   "outputs": [
    {
     "data": {
      "text/plain": [
       "Engine(sqlite:///kinara_assessment_20190807.db)"
      ]
     },
     "execution_count": 3,
     "metadata": {},
     "output_type": "execute_result"
    }
   ],
   "source": [
    "#creating sql engine to run sql in jupyter\n",
    "sqlalchemy.create_engine('sqlite:///kinara_assessment_20190807.db')"
   ]
  },
  {
   "cell_type": "code",
   "execution_count": 4,
   "metadata": {},
   "outputs": [],
   "source": [
    "%load_ext sql"
   ]
  },
  {
   "cell_type": "code",
   "execution_count": 5,
   "metadata": {},
   "outputs": [],
   "source": [
    "# connecting database\n",
    "%sql sqlite:///kinara_assessment_20190807.db"
   ]
  },
  {
   "cell_type": "code",
   "execution_count": 6,
   "metadata": {},
   "outputs": [
    {
     "name": "stdout",
     "output_type": "stream",
     "text": [
      " * sqlite:///kinara_assessment_20190807.db\n",
      "Done.\n",
      " * sqlite:///kinara_assessment_20190807.db\n",
      "Done.\n",
      " * sqlite:///kinara_assessment_20190807.db\n",
      "Done.\n",
      " * sqlite:///kinara_assessment_20190807.db\n",
      "Done.\n",
      "+----------+\n",
      "| count(*) |\n",
      "+----------+\n",
      "|   2476   |\n",
      "+----------+\n",
      "+----------+\n",
      "| count(*) |\n",
      "+----------+\n",
      "|   2476   |\n",
      "+----------+\n",
      "+----------+\n",
      "| count(*) |\n",
      "+----------+\n",
      "|   2476   |\n",
      "+----------+\n",
      "+----------+\n",
      "| count(*) |\n",
      "+----------+\n",
      "|   2476   |\n",
      "+----------+\n"
     ]
    }
   ],
   "source": [
    "# getting total count of files\n",
    "tot_cnt_ln_inf = %sql select count(*) from loan_information;\n",
    "\n",
    "tot_cnt_ent_Inf =%sql select count(*) from enterprise_information;\n",
    "\n",
    "tot_cnt_score_inf = %sql select count(*) from scores_information;\n",
    "\n",
    "tot_dis_inf = %sql select count(*) from disbursement_information;\n",
    "\n",
    "print(tot_cnt_ln_inf)\n",
    "print(tot_cnt_ent_Inf)\n",
    "print(tot_cnt_score_inf)\n",
    "print(tot_dis_inf)\n"
   ]
  },
  {
   "cell_type": "code",
   "execution_count": 7,
   "metadata": {},
   "outputs": [
    {
     "ename": "SyntaxError",
     "evalue": "invalid syntax (<ipython-input-7-b715369003ac>, line 5)",
     "output_type": "error",
     "traceback": [
      "\u001b[1;36m  File \u001b[1;32m\"<ipython-input-7-b715369003ac>\"\u001b[1;36m, line \u001b[1;32m5\u001b[0m\n\u001b[1;33m    CREATE TABLE disbursement_information_nonull AS\u001b[0m\n\u001b[1;37m               ^\u001b[0m\n\u001b[1;31mSyntaxError\u001b[0m\u001b[1;31m:\u001b[0m invalid syntax\n"
     ]
    }
   ],
   "source": [
    "# creating disbursement files with non null values before join\n",
    "\n",
    "\n",
    "%%sql \n",
    "CREATE TABLE disbursement_information_nonull AS \n",
    "SELECT * FROM disbursement_information where account_number IS NOT NULL;\n",
    "\n"
   ]
  },
  {
   "cell_type": "code",
   "execution_count": null,
   "metadata": {},
   "outputs": [],
   "source": []
  }
 ],
 "metadata": {
  "kernelspec": {
   "display_name": "Python 3",
   "language": "python",
   "name": "python3"
  },
  "language_info": {
   "codemirror_mode": {
    "name": "ipython",
    "version": 3
   },
   "file_extension": ".py",
   "mimetype": "text/x-python",
   "name": "python",
   "nbconvert_exporter": "python",
   "pygments_lexer": "ipython3",
   "version": "3.7.3"
  }
 },
 "nbformat": 4,
 "nbformat_minor": 2
}

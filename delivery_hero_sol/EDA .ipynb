{
 "cells": [
  {
   "cell_type": "code",
   "execution_count": 1,
   "metadata": {},
   "outputs": [
    {
     "name": "stderr",
     "output_type": "stream",
     "text": [
      "C:\\Users\\gshik\\Anaconda3\\lib\\site-packages\\numpy\\_distributor_init.py:32: UserWarning: loaded more than 1 DLL from .libs:\n",
      "C:\\Users\\gshik\\Anaconda3\\lib\\site-packages\\numpy\\.libs\\libopenblas.GK7GX5KEQ4F6UYO3P26ULGBQYHGQO7J4.gfortran-win_amd64.dll\n",
      "C:\\Users\\gshik\\Anaconda3\\lib\\site-packages\\numpy\\.libs\\libopenblas.PYQHXLVVQ7VESDPUVUADXEVJOBGHJPAY.gfortran-win_amd64.dll\n",
      "  stacklevel=1)\n"
     ]
    }
   ],
   "source": [
    "import pandas as pd\n",
    "import numpy as np\n",
    "import matplotlib.pyplot as plt\n",
    "%matplotlib inline\n",
    "import seaborn as sns\n",
    "%config Completer.use_jedi = False"
   ]
  },
  {
   "cell_type": "markdown",
   "metadata": {},
   "source": [
    "## Importing data"
   ]
  },
  {
   "cell_type": "code",
   "execution_count": 2,
   "metadata": {},
   "outputs": [],
   "source": [
    "order_data = pd.read_csv('data/machine_learning_challenge_order_data.csv')\n",
    "label_data=pd.read_csv(\"data/machine_learning_challenge_labeled_data.csv\")"
   ]
  },
  {
   "cell_type": "markdown",
   "metadata": {},
   "source": [
    "## EDA"
   ]
  },
  {
   "cell_type": "code",
   "execution_count": 3,
   "metadata": {
    "scrolled": true
   },
   "outputs": [
    {
     "name": "stdout",
     "output_type": "stream",
     "text": [
      "\n",
      "\n",
      "----------- Understanding shape of dataset -------------\n",
      "\n",
      "\n",
      "----------- order_data -------------\n",
      "\n",
      "\n",
      "Shape of dataset is : (786600, 13)\n",
      "Total rows : 786600\n",
      "Total variables : 13\n",
      "\n",
      "\n",
      "----------- label_data -------------\n",
      "\n",
      "\n",
      "Shape of dataset is : (245455, 2)\n",
      "Total rows : 245455\n",
      "Total variables : 2\n",
      "Customer Return Rate: 0.226139\n"
     ]
    }
   ],
   "source": [
    "## Shape of dataset :\n",
    "\n",
    "print(\"\\n\")\n",
    "print(\"----------- Understanding shape of dataset -------------\")\n",
    "print(\"\\n\")\n",
    "print(\"----------- order_data -------------\")\n",
    "print(\"\\n\")\n",
    "print(\"Shape of dataset is : {0}\".format(order_data.shape))\n",
    "print(\"Total rows : {}\".format(order_data.shape[0]))\n",
    "print(\"Total variables : {}\".format(order_data.shape[1]))\n",
    "\n",
    "print(\"\\n\")\n",
    "print(\"----------- label_data -------------\")\n",
    "print(\"\\n\")\n",
    "\n",
    "print(\"Shape of dataset is : {0}\".format(label_data.shape))\n",
    "print(\"Total rows : {}\".format(label_data.shape[0]))\n",
    "print(\"Total variables : {}\".format(label_data.shape[1]))\n",
    "print('Customer Return Rate: %f' %(label_data.is_returning_customer.sum()/label_data.is_returning_customer.count()))\n",
    "\n",
    "\n"
   ]
  },
  {
   "cell_type": "code",
   "execution_count": 4,
   "metadata": {},
   "outputs": [
    {
     "name": "stdout",
     "output_type": "stream",
     "text": [
      "\n",
      "\n",
      "----------- Unique values for each independent variable in order_data -------------\n",
      "\n",
      "\n",
      "Total unique categories in variable customer_id is : 245455\n",
      "Total unique categories in variable order_date is : 776\n",
      "Total unique categories in variable order_hour is : 24\n",
      "Total unique categories in variable customer_order_rank is : 369\n",
      "Total unique categories in variable is_failed is : 2\n",
      "Total unique categories in variable voucher_amount is : 911\n",
      "Total unique categories in variable delivery_fee is : 98\n",
      "Total unique categories in variable amount_paid is : 6471\n",
      "Total unique categories in variable restaurant_id is : 13569\n",
      "Total unique categories in variable city_id is : 3749\n",
      "Total unique categories in variable payment_id is : 5\n",
      "Total unique categories in variable platform_id is : 14\n",
      "Total unique categories in variable transmission_id is : 10\n"
     ]
    }
   ],
   "source": [
    "## Analyzing feature type:\n",
    "\n",
    "print(\"\\n\")\n",
    "print(\"----------- Unique values for each independent variable in order_data -------------\")\n",
    "print(\"\\n\")\n",
    "\n",
    "for x in order_data.columns:\n",
    "    print(\"Total unique categories in variable {0} is : {1}\".format(x,order_data[x].nunique()))"
   ]
  },
  {
   "cell_type": "markdown",
   "metadata": {},
   "source": [
    "1. customer id is the customer level key\n",
    "\n",
    "2. voucher_amount  delivery_fee  amount_paid are continuos features wherea order_date is date time featue.\n",
    "\n",
    "3. 'order_hour', 'customer_order_rank', 'is_failed', 'payment_id', 'platform_id', 'transmission_id', 'restaurant_id', 'city_id' are categorical features.\n",
    "\n",
    "4. Among categorical features we see 'restaurant_id' & 'city_id' are nominal categorical variables with too many categories and thus they cannot be directly used for practical purposes."
   ]
  },
  {
   "cell_type": "code",
   "execution_count": 5,
   "metadata": {},
   "outputs": [
    {
     "name": "stdout",
     "output_type": "stream",
     "text": [
      "\n",
      "\n",
      "----------- Descriptive statistics continous Variables-------------\n",
      "\n",
      "\n",
      "            index     count       mean       std  min      25%    50%     75%  \\\n",
      "0  voucher_amount  786600.0   0.091489  0.479558  0.0  0.00000  0.000   0.000   \n",
      "1    delivery_fee  786600.0   0.181180  0.369710  0.0  0.00000  0.000   0.000   \n",
      "2     amount_paid  786600.0  10.183271  5.618121  0.0  6.64812  9.027  12.213   \n",
      "\n",
      "         max  \n",
      "0    93.3989  \n",
      "1     9.8600  \n",
      "2  1131.0300  \n",
      "\n",
      "\n",
      "----------- Checking for outliers in continuos data using box plots and quantile distribution-------------\n",
      "\n",
      "\n",
      "                0.0100  0.1000   0.2500  0.5000  0.7500   0.9000  0.9900  \\\n",
      "voucher_amount   0.000    0.00  0.00000   0.000   0.000   0.0000   2.058   \n",
      "delivery_fee     0.000    0.00  0.00000   0.000   0.000   0.7395   1.479   \n",
      "amount_paid      3.186    5.31  6.64812   9.027  12.213  16.1955  28.674   \n",
      "\n",
      "                   0.9990     0.9999     1.0000  \n",
      "voucher_amount   4.109836   9.659019    93.3989  \n",
      "delivery_fee     2.465000   3.919350     9.8600  \n",
      "amount_paid     49.914000  94.608297  1131.0300  \n",
      "\n",
      "\n",
      "-----------  capping voucher_amount and amount_paid with 99.99 percentile------------\n",
      "\n",
      "\n"
     ]
    },
    {
     "data": {
      "image/png": "[encoded data removed]",
      "text/plain": [
       "<Figure size 432x288 with 1 Axes>"
      ]
     },
     "metadata": {
      "needs_background": "light"
     },
     "output_type": "display_data"
    },
    {
     "data": {
      "image/png": "[encoded data removed]",
      "text/plain": [
       "<Figure size 432x288 with 1 Axes>"
      ]
     },
     "metadata": {
      "needs_background": "light"
     },
     "output_type": "display_data"
    },
    {
     "data": {
      "image/png": "[encoded data removed]",
      "text/plain": [
       "<Figure size 432x288 with 1 Axes>"
      ]
     },
     "metadata": {
      "needs_background": "light"
     },
     "output_type": "display_data"
    }
   ],
   "source": [
    "print(\"\\n\")\n",
    "print(\"----------- Descriptive statistics continous Variables-------------\")\n",
    "print(\"\\n\")\n",
    "\n",
    "desc_Stat = order_data[['voucher_amount','delivery_fee','amount_paid']].describe().T.reset_index()\n",
    "print(desc_Stat)\n",
    "\n",
    "print(\"\\n\")\n",
    "print(\"----------- Checking for outliers in continuos data using box plots and quantile distribution-------------\")\n",
    "print(\"\\n\")\n",
    "\n",
    "\n",
    "i=1\n",
    "for c in ['voucher_amount','delivery_fee', 'amount_paid']:\n",
    "    plt.figure(i)\n",
    "    order_data.boxplot(column =c, grid = False)\n",
    "    i=i+1\n",
    "\n",
    "\n",
    "data_outlier = order_data[['voucher_amount','delivery_fee', 'amount_paid']]\n",
    "print(data_outlier.quantile([0.01, 0.1, 0.25, 0.5, 0.75, 0.9, 0.99, 0.999, 0.9999, 1]).transpose())\n",
    "\n",
    "print(\"\\n\")\n",
    "print(\"-----------  capping voucher_amount and amount_paid with 99.99 percentile------------\")\n",
    "print(\"\\n\")\n",
    "\n",
    "order_data['voucher_amount'] = np.where(order_data['voucher_amount']>9.659019, 9.659019, order_data['voucher_amount'])\n",
    "order_data['amount_paid'] = np.where(order_data['amount_paid']>\t94.608297, 94.608297, order_data['amount_paid'])\n"
   ]
  },
  {
   "cell_type": "code",
   "execution_count": 6,
   "metadata": {},
   "outputs": [
    {
     "name": "stdout",
     "output_type": "stream",
     "text": [
      "\n",
      "\n",
      "----------- Descriptive statistics Categorical Variables-------------\n",
      "\n",
      "\n",
      "              Variable  Total_Records  Unique_values  Top_category  Frequency\n",
      "0           order_hour       786600.0           24.0          19.0   134030.0\n",
      "1  customer_order_rank       761833.0          369.0           1.0   244937.0\n",
      "2            is_failed       786600.0            2.0           0.0   761833.0\n",
      "3           payment_id       786600.0            5.0        1619.0   476600.0\n",
      "4          platform_id       786600.0           14.0       29463.0   241523.0\n",
      "5      transmission_id       786600.0           10.0        4356.0   341734.0\n",
      "\n",
      "\n",
      "----------- Distribution of categorical variables in the dataset-------------\n",
      "\n",
      "\n"
     ]
    },
    {
     "data": {
      "image/png": "[encoded data removed]",
      "text/plain": [
       "<Figure size 1296x720 with 6 Axes>"
      ]
     },
     "metadata": {
      "needs_background": "light"
     },
     "output_type": "display_data"
    }
   ],
   "source": [
    "print(\"\\n\")\n",
    "print(\"----------- Descriptive statistics Categorical Variables-------------\")\n",
    "print(\"\\n\")\n",
    "\n",
    "order_data[['order_hour', 'customer_order_rank', 'is_failed', 'payment_id', 'platform_id', 'transmission_id']] = \\\n",
    "order_data[['order_hour', 'customer_order_rank', 'is_failed', 'payment_id', 'platform_id', 'transmission_id']].astype('object')\n",
    "desc_Stat = order_data[['order_hour', 'customer_order_rank', 'is_failed', 'payment_id', 'platform_id', \\\n",
    "                        'transmission_id']].describe().T.reset_index()\n",
    "\n",
    "desc_Stat.columns = ['Variable','Total_Records','Unique_values','Top_category','Frequency']\n",
    "print(desc_Stat)\n",
    "\n",
    "\n",
    "print(\"\\n\")\n",
    "print(\"----------- Distribution of categorical variables in the dataset-------------\")\n",
    "print(\"\\n\")\n",
    "\n",
    "fig, axes = plt.subplots(3, 2, figsize=(18, 10))\n",
    "plt.suptitle('Distribution Plots for categorical variables',fontsize=20)\n",
    "\n",
    "order_data_categories = order_data[['order_hour', 'customer_order_rank', 'is_failed', 'payment_id', 'platform_id',\\\n",
    "                                    'transmission_id']]\n",
    "\n",
    "count=0\n",
    "for i in range(0,3):\n",
    "    for j in range(0,2):\n",
    "        sns.countplot(ax=axes[i, j],x=order_data_categories.columns[count],data=order_data_categories)\n",
    "        count = count + 1 \n",
    "\n",
    "\n"
   ]
  },
  {
   "cell_type": "markdown",
   "metadata": {},
   "source": [
    "1. order_hour, customer_order_rank are ordinal categorical variables varying in order from 0 to 23 and 1 to 369 in ascending order whereas is_failed, payment_id platform_id, transmission_id are nominal categorival variables.\n",
    "\n",
    "\n",
    "2. Distribution is skewed for all categoriocal variables among few major categories as can been seen from the plot.Thus it is a good idea to one hot encode these variables to capture significant categories specially for nominal variables"
   ]
  },
  {
   "cell_type": "code",
   "execution_count": 7,
   "metadata": {
    "scrolled": false
   },
   "outputs": [
    {
     "name": "stdout",
     "output_type": "stream",
     "text": [
      "\n",
      "\n",
      "----------- Checking for Missing Values-------------\n",
      "\n",
      "\n",
      "               Variable  Missing_values\n",
      "0           customer_id               0\n",
      "1            order_date               0\n",
      "2            order_hour               0\n",
      "3   customer_order_rank           24767\n",
      "4             is_failed               0\n",
      "5        voucher_amount               0\n",
      "6          delivery_fee               0\n",
      "7           amount_paid               0\n",
      "8         restaurant_id               0\n",
      "9               city_id               0\n",
      "10           payment_id               0\n",
      "11          platform_id               0\n",
      "12      transmission_id               0\n",
      "\n",
      "\n",
      "----------- Further Investigating on Missing Values, Checking is_falied value counts-------------\n",
      "\n",
      "\n",
      "\n",
      "\n",
      "-----------Replacing Null values for customer_order_rank with 0 for model training  As customer_order_rank order placed by customers in chronological order, it seems like valid imputation-------------\n",
      "\n",
      "\n",
      "               Variable  Missing_values\n",
      "0           customer_id               0\n",
      "1            order_date               0\n",
      "2            order_hour               0\n",
      "3   customer_order_rank               0\n",
      "4             is_failed               0\n",
      "5        voucher_amount               0\n",
      "6          delivery_fee               0\n",
      "7           amount_paid               0\n",
      "8         restaurant_id               0\n",
      "9               city_id               0\n",
      "10           payment_id               0\n",
      "11          platform_id               0\n",
      "12      transmission_id               0\n"
     ]
    }
   ],
   "source": [
    "print(\"\\n\")\n",
    "print(\"----------- Checking for Missing Values-------------\")\n",
    "print(\"\\n\")\n",
    "Missing_values = pd.DataFrame(order_data.isnull().sum()).reset_index()\n",
    "Missing_values.columns = ['Variable','Missing_values']\n",
    "print(Missing_values)\n",
    "\n",
    "print(\"\\n\")\n",
    "print(\"----------- Further Investigating on Missing Values, Checking is_falied value counts-------------\")\n",
    "print(\"\\n\")\n",
    "order_data.is_failed.value_counts()\n",
    "\n",
    "print(\"\\n\")\n",
    "print(\"-----------Replacing Null values for customer_order_rank with 0 for model training\\\n",
    "  As customer_order_rank order placed by customers in chronological order, it seems like valid imputation-------------\")\n",
    "print(\"\\n\")\n",
    "\n",
    "order_data['customer_order_rank'].fillna(0, inplace = True)\n",
    "\n",
    "Missing_values = pd.DataFrame(order_data.isnull().sum()).reset_index()\n",
    "Missing_values.columns = ['Variable','Missing_values']\n",
    "print(Missing_values)"
   ]
  },
  {
   "cell_type": "code",
   "execution_count": 8,
   "metadata": {},
   "outputs": [
    {
     "name": "stdout",
     "output_type": "stream",
     "text": [
      "\n",
      "\n",
      "----------- Checking Order_Date-------------\n",
      "\n",
      "\n",
      "536621    2012-05-17\n",
      "725423    2012-08-10\n",
      "747902    2012-09-27\n",
      "748165    2012-12-08\n",
      "200654    2013-03-02\n",
      "Name: order_date, dtype: object\n",
      "53\n",
      "\n",
      "\n",
      "----------- removing the rows with order_date less than '2015-03-01'-------------\n",
      "\n",
      "\n"
     ]
    }
   ],
   "source": [
    "print(\"\\n\")\n",
    "print(\"----------- Checking Order_Date-------------\")\n",
    "print(\"\\n\")\n",
    "print(order_data.sort_values('order_date').head()['order_date'])\n",
    "print(order_data[order_data['order_date'] < '2015-03-01'].shape[0])\n",
    "\n",
    "print(\"\\n\")\n",
    "print(\"----------- removing the rows with order_date less than '2015-03-01'-------------\")\n",
    "print(\"\\n\")\n",
    "\n",
    "order_data = order_data[order_data['order_date'] >= '2015-03-01']"
   ]
  },
  {
   "cell_type": "markdown",
   "metadata": {},
   "source": [
    "We see that there are 53 rows with order date < 2015-03-01, it is given in problem that the dataset contains customers acquired between '2015-03-01' and '2017-02-28'. Thereby removing the 53 rows from modelling data"
   ]
  },
  {
   "cell_type": "code",
   "execution_count": 9,
   "metadata": {
    "scrolled": true
   },
   "outputs": [
    {
     "data": {
      "text/plain": [
       "(786547, 13)"
      ]
     },
     "execution_count": 9,
     "metadata": {},
     "output_type": "execute_result"
    }
   ],
   "source": [
    "order_data.shape"
   ]
  },
  {
   "cell_type": "code",
   "execution_count": 10,
   "metadata": {},
   "outputs": [
    {
     "name": "stdout",
     "output_type": "stream",
     "text": [
      "\n",
      "\n",
      "----------- Saving Processed Dataset as 'Order_Data_Preprocess'-------------\n",
      "\n",
      "\n"
     ]
    }
   ],
   "source": [
    "print(\"\\n\")\n",
    "print(\"----------- Saving Processed Dataset as 'Order_Data_Preprocess'-------------\")\n",
    "print(\"\\n\")\n",
    "\n",
    "order_data.to_csv('data/Order_Data_Preprocess.csv')"
   ]
  }
 ],
 "metadata": {
  "kernelspec": {
   "display_name": "Python 3",
   "language": "python",
   "name": "python3"
  },
  "language_info": {
   "codemirror_mode": {
    "name": "ipython",
    "version": 3
   },
   "file_extension": ".py",
   "mimetype": "text/x-python",
   "name": "python",
   "nbconvert_exporter": "python",
   "pygments_lexer": "ipython3",
   "version": "3.7.3"
  }
 },
 "nbformat": 4,
 "nbformat_minor": 4
}

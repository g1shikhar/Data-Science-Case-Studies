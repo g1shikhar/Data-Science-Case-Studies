{
 "cells": [
  {
   "cell_type": "code",
   "execution_count": 1,
   "metadata": {},
   "outputs": [
    {
     "name": "stderr",
     "output_type": "stream",
     "text": [
      "C:\\Users\\gshik\\Anaconda3\\lib\\site-packages\\numpy\\_distributor_init.py:32: UserWarning: loaded more than 1 DLL from .libs:\n",
      "C:\\Users\\gshik\\Anaconda3\\lib\\site-packages\\numpy\\.libs\\libopenblas.GK7GX5KEQ4F6UYO3P26ULGBQYHGQO7J4.gfortran-win_amd64.dll\n",
      "C:\\Users\\gshik\\Anaconda3\\lib\\site-packages\\numpy\\.libs\\libopenblas.PYQHXLVVQ7VESDPUVUADXEVJOBGHJPAY.gfortran-win_amd64.dll\n",
      "  stacklevel=1)\n"
     ]
    }
   ],
   "source": [
    "import pandas as pd\n",
    "import numpy as np\n",
    "import os\n",
    "import numpy as np\n",
    "from sklearn.feature_selection import VarianceThreshold\n",
    "from sklearn.model_selection import train_test_split\n",
    "from sklearn.ensemble import RandomForestClassifier\n",
    "%config Completer.use_jedi = False\n",
    "import matplotlib.pyplot as plt\n",
    "%matplotlib inline"
   ]
  },
  {
   "cell_type": "code",
   "execution_count": 3,
   "metadata": {},
   "outputs": [],
   "source": [
    "customer_level_data = pd.read_csv('data/customer_level_features.csv', index_col=0)"
   ]
  },
  {
   "cell_type": "code",
   "execution_count": 4,
   "metadata": {},
   "outputs": [
    {
     "data": {
      "text/plain": [
       "(245453, 64)"
      ]
     },
     "execution_count": 4,
     "metadata": {},
     "output_type": "execute_result"
    }
   ],
   "source": [
    "customer_level_data.shape"
   ]
  },
  {
   "cell_type": "code",
   "execution_count": 5,
   "metadata": {},
   "outputs": [
    {
     "data": {
      "text/plain": [
       "customer_id                  0\n",
       "month_1_sum                  0\n",
       "month_2_sum                  0\n",
       "month_3_sum                  0\n",
       "month_4_sum                  0\n",
       "                            ..\n",
       "transmission_id_4356_sum     0\n",
       "transmission_id_4996_sum     0\n",
       "transmission_id_21124_sum    0\n",
       "amount_paid_mean             0\n",
       "is_returning_customer        0\n",
       "Length: 64, dtype: int64"
      ]
     },
     "execution_count": 5,
     "metadata": {},
     "output_type": "execute_result"
    }
   ],
   "source": [
    "customer_level_data.isnull().sum().sort_values()"
   ]
  },
  {
   "cell_type": "markdown",
   "metadata": {},
   "source": [
    "## Splitting data into Features and Labels"
   ]
  },
  {
   "cell_type": "code",
   "execution_count": 6,
   "metadata": {},
   "outputs": [],
   "source": [
    "Y = pd.DataFrame(customer_level_data[['customer_id', 'is_returning_customer']])\n",
    "X = customer_level_data.drop(['is_returning_customer'],axis = 1)"
   ]
  },
  {
   "cell_type": "markdown",
   "metadata": {},
   "source": [
    "## Spliting data to train and test"
   ]
  },
  {
   "cell_type": "code",
   "execution_count": 7,
   "metadata": {},
   "outputs": [],
   "source": [
    "X_train, X_test, y_train, y_test = train_test_split(X, Y, test_size = 0.3, random_state = 11)"
   ]
  },
  {
   "cell_type": "markdown",
   "metadata": {},
   "source": [
    "## Removing Low variance features"
   ]
  },
  {
   "cell_type": "code",
   "execution_count": 8,
   "metadata": {},
   "outputs": [
    {
     "name": "stdout",
     "output_type": "stream",
     "text": [
      "\n",
      "\n",
      "----------- Removing Variables with low variance-------------\n",
      "\n",
      "\n",
      "Features with low variance are \n",
      " \n",
      " ['platform_id_22295_sum', 'transmission_id_2020_sum']\n",
      "\n",
      "\n",
      "----------- Dropping 'platform_id_22295_sum', 'transmission_id_2020_sum'-------------\n",
      "\n",
      "\n"
     ]
    },
    {
     "name": "stderr",
     "output_type": "stream",
     "text": [
      "C:\\Users\\gshik\\Anaconda3\\lib\\site-packages\\pandas\\core\\frame.py:4312: SettingWithCopyWarning: \n",
      "A value is trying to be set on a copy of a slice from a DataFrame\n",
      "\n",
      "See the caveats in the documentation: https://pandas.pydata.org/pandas-docs/stable/user_guide/indexing.html#returning-a-view-versus-a-copy\n",
      "  errors=errors,\n"
     ]
    }
   ],
   "source": [
    "print(\"\\n\")\n",
    "print(\"----------- Removing Variables with low variance-------------\")\n",
    "print(\"\\n\")\n",
    "model_data = X_train.drop(['customer_id'], axis=1)\n",
    "feature_selector = VarianceThreshold(threshold=0)\n",
    "feature_selector.fit(model_data)\n",
    "\n",
    "Feat_Low_Var = []\n",
    "for x in model_data.columns:\n",
    "    if x not in model_data.columns[feature_selector.get_support()]:\n",
    "        Feat_Low_Var.append(x)\n",
    "\n",
    "if Feat_Low_Var == []:\n",
    "    print('No feature with Low Variance')\n",
    "else:\n",
    "    print('Features with low variance are \\n \\n', Feat_Low_Var)\n",
    "\n",
    "print(\"\\n\")\n",
    "print(\"----------- Dropping 'platform_id_22295_sum', 'transmission_id_2020_sum'-------------\")\n",
    "print(\"\\n\")\n",
    "\n",
    "X_train.drop(['platform_id_22295_sum', 'transmission_id_2020_sum'], axis=1, inplace=True)"
   ]
  },
  {
   "cell_type": "markdown",
   "metadata": {},
   "source": [
    "## Highly Correlated Features"
   ]
  },
  {
   "cell_type": "code",
   "execution_count": 9,
   "metadata": {},
   "outputs": [
    {
     "name": "stdout",
     "output_type": "stream",
     "text": [
      "\n",
      "\n",
      "----------- Following variable are Higly correlated-------------\n",
      "\n",
      "\n",
      "year_2016_sum and customer_order_rank_max = 0.935\n",
      "customer_order_rank_max and amount_paid_sum = 0.933\n",
      "weekend_sum and dayofweek_num_6_sum = 0.933\n",
      "\n",
      "\n"
     ]
    }
   ],
   "source": [
    "print(\"\\n\")\n",
    "print(\"----------- Following variable are Higly correlated-------------\")\n",
    "print(\"\\n\")\n",
    "\n",
    "# Since it is no linear classifier a high threshold of pearson's correlation is chosen\n",
    "def print_highly_correlated(df, threshold):\n",
    "    \"\"\"Prints highly correlated features pairs in the data frame (helpful for feature engineering)\"\"\"\n",
    "    corr_df = df.corr() # get correlations\n",
    "    correlated_features = np.where(np.abs(corr_df) > threshold) # select ones above the abs threshold\n",
    "    correlated_features = [(corr_df.iloc[x,y], x, y) for x, y in zip(*correlated_features) if x != y and x < y] # avoid duplication\n",
    "    s_corr_list = sorted(correlated_features, key=lambda x: -abs(x[0])) # sort by correlation value\n",
    "    \n",
    "    if s_corr_list == []:\n",
    "        print(\"There are no highly correlated features with correlation above\", threshold)\n",
    "    else:\n",
    "        for v, i, j in s_corr_list:\n",
    "            cols = df.columns\n",
    "            print (\"%s and %s = %.3f\" % (corr_df.index[i], corr_df.columns[j], v))\n",
    "\n",
    "print_highly_correlated(X_train.drop(['customer_id'], axis=1), threshold=0.9)\n",
    "\n",
    "print(\"\\n\")"
   ]
  },
  {
   "cell_type": "markdown",
   "metadata": {},
   "source": [
    "Dropping Correlated Variables:\n",
    "\n",
    "    1.Based on correlation analysis and also on variable understanding we know that:\n",
    "        'weekend_sum' and 'dayofweek_num_6_sum'\n",
    "        'year_2016_sum' and 'customer_order_rank_max' \n",
    "    capture same information so it makes sense to drop one of them.\n",
    "    \n",
    "    2.Since above variables are highly correlated(~0.94), together they won't add any additional predictive power. Moreover dropping one of them would result in more genralised model.\n",
    "    \n",
    "    3.We further need do Variable Importance Analysis to decide which features to drop from these combinations\n",
    "    "
   ]
  },
  {
   "cell_type": "markdown",
   "metadata": {},
   "source": [
    "## Variable Importance using Random Forest Classifier"
   ]
  },
  {
   "cell_type": "code",
   "execution_count": 10,
   "metadata": {
    "scrolled": false
   },
   "outputs": [
    {
     "name": "stdout",
     "output_type": "stream",
     "text": [
      "\n",
      "\n",
      "-------- Feature Importance based on Standard Paramters of Random Forest Classifier-------\n",
      "\n",
      "\n",
      "                feature_names    importance\n",
      "58            amount_paid_sum  1.143767e-01\n",
      "59           amount_paid_mean  9.578208e-02\n",
      "30              year_2017_sum  6.436438e-02\n",
      "52    customer_order_rank_max  4.817905e-02\n",
      "51             order_hour_min  4.781605e-02\n",
      "50             order_hour_max  4.499535e-02\n",
      "29              year_2016_sum  4.121403e-02\n",
      "32                month_2_sum  3.079928e-02\n",
      "24   transmission_id_4356_sum  2.965769e-02\n",
      "27                weekend_sum  2.745442e-02\n",
      "2         payment_id_1619_sum  2.522034e-02\n",
      "57          delivery_fee_mean  2.354666e-02\n",
      "56           delivery_fee_sum  2.302971e-02\n",
      "49        dayofweek_num_6_sum  1.974583e-02\n",
      "21   transmission_id_4228_sum  1.938199e-02\n",
      "23   transmission_id_4324_sum  1.767299e-02\n",
      "8       platform_id_29463_sum  1.673711e-02\n",
      "3         payment_id_1779_sum  1.668488e-02\n",
      "31                month_1_sum  1.623276e-02\n",
      "47        dayofweek_num_4_sum  1.536481e-02\n",
      "48        dayofweek_num_5_sum  1.519994e-02\n",
      "42               month_12_sum  1.458465e-02\n",
      "28              year_2015_sum  1.404832e-02\n",
      "14      platform_id_30231_sum  1.398574e-02\n",
      "15      platform_id_30359_sum  1.302080e-02\n",
      "11      platform_id_29815_sum  1.297544e-02\n",
      "44        dayofweek_num_1_sum  1.284181e-02\n",
      "46        dayofweek_num_3_sum  1.230658e-02\n",
      "45        dayofweek_num_2_sum  1.223500e-02\n",
      "43        dayofweek_num_0_sum  1.185811e-02\n",
      "41               month_11_sum  1.099042e-02\n",
      "40               month_10_sum  9.729377e-03\n",
      "39                month_9_sum  8.929188e-03\n",
      "38                month_8_sum  8.184850e-03\n",
      "37                month_7_sum  7.833064e-03\n",
      "36                month_6_sum  7.277080e-03\n",
      "35                month_5_sum  7.102048e-03\n",
      "55        voucher_amount_mean  6.948763e-03\n",
      "34                month_4_sum  6.651080e-03\n",
      "33                month_3_sum  6.541446e-03\n",
      "54         voucher_amount_sum  6.539070e-03\n",
      "0         payment_id_1491_sum  5.222146e-03\n",
      "4         payment_id_1811_sum  5.136319e-03\n",
      "9       platform_id_29495_sum  4.224932e-03\n",
      "22   transmission_id_4260_sum  4.149722e-03\n",
      "16      platform_id_30391_sum  4.065616e-03\n",
      "53    customer_order_rank_min  3.802140e-03\n",
      "10      platform_id_29751_sum  3.490459e-03\n",
      "17      platform_id_30423_sum  3.262783e-03\n",
      "25   transmission_id_4996_sum  2.760498e-03\n",
      "18    transmission_id_212_sum  2.293344e-03\n",
      "20   transmission_id_4196_sum  1.752869e-03\n",
      "13      platform_id_30199_sum  5.101570e-04\n",
      "1         payment_id_1523_sum  4.572541e-04\n",
      "5         platform_id_525_sum  3.847221e-04\n",
      "12      platform_id_30135_sum  1.545814e-04\n",
      "19   transmission_id_1988_sum  1.460476e-04\n",
      "7       platform_id_22263_sum  9.293411e-05\n",
      "26  transmission_id_21124_sum  5.411182e-05\n",
      "6       platform_id_22167_sum  4.107969e-07\n",
      "\n",
      "\n",
      "--------- Feature Importance based on standard paramters of Random Forest Classifier\n",
      "                    after removing i.e. 'dayofweek_num_6_sum' & 'customer_order_rank_max'--------\n",
      "\n",
      "\n",
      "                feature_names    importance  cum_importance\n",
      "0             amount_paid_sum  1.223948e-01        0.122395\n",
      "1            amount_paid_mean  9.828642e-02        0.220681\n",
      "2               year_2017_sum  7.420240e-02        0.294884\n",
      "3              order_hour_min  4.821380e-02        0.343097\n",
      "4              order_hour_max  4.596176e-02        0.389059\n",
      "5               year_2016_sum  4.354935e-02        0.432609\n",
      "6                 weekend_sum  3.323103e-02        0.465840\n",
      "7         payment_id_1619_sum  3.140645e-02        0.497246\n",
      "8    transmission_id_4356_sum  2.829720e-02        0.525543\n",
      "9           delivery_fee_mean  2.427091e-02        0.549814\n",
      "10                month_2_sum  2.367171e-02        0.573486\n",
      "11           delivery_fee_sum  2.335308e-02        0.596839\n",
      "12   transmission_id_4228_sum  2.271137e-02        0.619550\n",
      "13                month_1_sum  2.012600e-02        0.639676\n",
      "14        dayofweek_num_5_sum  2.001199e-02        0.659688\n",
      "15        dayofweek_num_4_sum  1.983122e-02        0.679519\n",
      "16   transmission_id_4324_sum  1.890727e-02        0.698427\n",
      "17        payment_id_1779_sum  1.822851e-02        0.716655\n",
      "18      platform_id_29463_sum  1.769339e-02        0.734349\n",
      "19        dayofweek_num_0_sum  1.650697e-02        0.750856\n",
      "20               month_12_sum  1.634348e-02        0.767199\n",
      "21        dayofweek_num_2_sum  1.484498e-02        0.782044\n",
      "22      platform_id_30231_sum  1.453382e-02        0.796578\n",
      "23      platform_id_29815_sum  1.405407e-02        0.810632\n",
      "24      platform_id_30359_sum  1.368672e-02        0.824319\n",
      "25              year_2015_sum  1.345914e-02        0.837778\n",
      "26        dayofweek_num_3_sum  1.262891e-02        0.850407\n",
      "27               month_11_sum  1.232359e-02        0.862730\n",
      "28        dayofweek_num_1_sum  1.231933e-02        0.875050\n",
      "29               month_10_sum  1.040589e-02        0.885456\n",
      "30                month_9_sum  8.850057e-03        0.894306\n",
      "31                month_8_sum  8.550369e-03        0.902856\n",
      "32                month_7_sum  8.209177e-03        0.911065\n",
      "33                month_5_sum  7.631160e-03        0.918696\n",
      "34                month_6_sum  7.567439e-03        0.926264\n",
      "35                month_4_sum  7.048438e-03        0.933312\n",
      "36        voucher_amount_mean  6.861597e-03        0.940174\n",
      "37         voucher_amount_sum  6.809966e-03        0.946984\n",
      "38                month_3_sum  6.695700e-03        0.953679\n",
      "39    customer_order_rank_min  6.398900e-03        0.960078\n",
      "40        payment_id_1811_sum  5.333774e-03        0.965412\n",
      "41        payment_id_1491_sum  5.297351e-03        0.970709\n",
      "42   transmission_id_4260_sum  4.312966e-03        0.975022\n",
      "43      platform_id_30391_sum  4.241890e-03        0.979264\n",
      "44      platform_id_29495_sum  4.231823e-03        0.983496\n",
      "45      platform_id_29751_sum  3.669865e-03        0.987166\n",
      "46      platform_id_30423_sum  3.315439e-03        0.990481\n",
      "47   transmission_id_4996_sum  3.046596e-03        0.993528\n",
      "48    transmission_id_212_sum  2.873927e-03        0.996402\n",
      "49   transmission_id_4196_sum  1.773831e-03        0.998176\n",
      "50      platform_id_30199_sum  5.378044e-04        0.998714\n",
      "51        payment_id_1523_sum  4.473772e-04        0.999161\n",
      "52        platform_id_525_sum  4.037719e-04        0.999565\n",
      "53   transmission_id_1988_sum  1.482956e-04        0.999713\n",
      "54      platform_id_30135_sum  1.340299e-04        0.999847\n",
      "55      platform_id_22263_sum  8.858422e-05        0.999936\n",
      "56  transmission_id_21124_sum  6.408299e-05        1.000000\n",
      "57      platform_id_22167_sum  2.364336e-07        1.000000\n"
     ]
    },
    {
     "data": {
      "text/plain": [
       "<AxesSubplot:>"
      ]
     },
     "execution_count": 10,
     "metadata": {},
     "output_type": "execute_result"
    },
    {
     "data": {
      "image/png": "[encoded data removed]",
      "text/plain": [
       "<Figure size 864x576 with 1 Axes>"
      ]
     },
     "metadata": {
      "needs_background": "light"
     },
     "output_type": "display_data"
    }
   ],
   "source": [
    "print(\"\\n\")\n",
    "print(\"-------- Feature Importance based on Standard Paramters of Random Forest Classifier-------\")\n",
    "print(\"\\n\")\n",
    "model = RandomForestClassifier()\n",
    "model.fit(X_train.drop(['customer_id'], axis=1), y_train['is_returning_customer'])\n",
    "imp_features_df = pd.DataFrame({'feature_names':X_train.drop(['customer_id'], axis=1).columns,\\\n",
    "                                'importance':model.feature_importances_})\n",
    "imp_features_df.sort_values('importance',ascending=False,inplace=True)\n",
    "print(imp_features_df)\n",
    "\n",
    "\n",
    "print(\"\\n\")\n",
    "print(\"\"\"--------- Feature Importance based on standard paramters of Random Forest Classifier\n",
    "                    after removing i.e. 'dayofweek_num_6_sum' & 'customer_order_rank_max'--------\"\"\")\n",
    "print(\"\\n\")\n",
    "\n",
    "model2 = RandomForestClassifier()\n",
    "model2.fit(X_train.drop(['customer_id', 'dayofweek_num_6_sum', 'customer_order_rank_max'], axis=1),\\\n",
    "           y_train['is_returning_customer'])\n",
    "imp_features_df2 = pd.DataFrame({'feature_names':X_train.drop(['customer_id', 'dayofweek_num_6_sum',\\\n",
    "                    'customer_order_rank_max'], axis=1).columns,'importance':model2.feature_importances_})\n",
    "imp_features_df2 = imp_features_df2.sort_values('importance',ascending=False).reset_index(drop=True)\n",
    "imp_features_df2['cum_importance'] = imp_features_df2.importance.cumsum()\n",
    "print(imp_features_df2)\n",
    "\n",
    "imp_features_df2.cum_importance.plot(figsize = (12, 8), yticks = np.arange(0, 1.2, 0.1))"
   ]
  },
  {
   "cell_type": "markdown",
   "metadata": {},
   "source": [
    "## Feature Reduction using Variable Importance"
   ]
  },
  {
   "cell_type": "code",
   "execution_count": 13,
   "metadata": {
    "scrolled": false
   },
   "outputs": [
    {
     "name": "stdout",
     "output_type": "stream",
     "text": [
      "\n",
      "\n",
      "-----From above table and plot we take Variables capturing 95% of Cumulative Importance-----\n",
      "\n",
      "\n",
      "\n",
      "\n",
      "----------- Shape of train Dataset after Feature Reduction-------------\n",
      "\n",
      "\n",
      "(171817, 38)\n",
      "\n",
      "\n",
      "----------- Shape of test Dataset after Feature Reduction-------------\n",
      "\n",
      "\n",
      "(73636, 38)\n"
     ]
    },
    {
     "name": "stderr",
     "output_type": "stream",
     "text": [
      "C:\\Users\\gshik\\Anaconda3\\lib\\site-packages\\IPython\\core\\interactiveshell.py:3418: SettingWithCopyWarning: \n",
      "A value is trying to be set on a copy of a slice from a DataFrame\n",
      "\n",
      "See the caveats in the documentation: https://pandas.pydata.org/pandas-docs/stable/user_guide/indexing.html#returning-a-view-versus-a-copy\n",
      "  exec(code_obj, self.user_global_ns, self.user_ns)\n"
     ]
    }
   ],
   "source": [
    "print(\"\\n\")\n",
    "print(\"-----From above table and plot we take Variables capturing 95% of Cumulative Importance-----\")\n",
    "print(\"\\n\")\n",
    "features = imp_features_df2[imp_features_df2.cum_importance <=0.95]['feature_names']\n",
    "features[31]='customer_id'\n",
    "X_train = X_train[features]\n",
    "X_test = X_test[features]\n",
    "\n",
    "print(\"\\n\")\n",
    "print(\"----------- Shape of train Dataset after Feature Reduction-------------\")\n",
    "print(\"\\n\")\n",
    "print(X_train.shape)\n",
    "\n",
    "print(\"\\n\")\n",
    "print(\"----------- Shape of test Dataset after Feature Reduction-------------\")\n",
    "print(\"\\n\")\n",
    "print(X_test.shape)"
   ]
  },
  {
   "cell_type": "code",
   "execution_count": 15,
   "metadata": {},
   "outputs": [
    {
     "name": "stdout",
     "output_type": "stream",
     "text": [
      "\n",
      "\n",
      "----------- Writing Modelling Datasets-------------\n",
      "\n",
      "\n",
      "\n",
      "\n",
      "----------- Shape of train Dataset-------------\n",
      "\n",
      "\n",
      "(171817, 39)\n",
      "\n",
      "\n",
      "----------- Shape of test Dataset-------------\n",
      "\n",
      "\n",
      "(73636, 39)\n"
     ]
    }
   ],
   "source": [
    "print(\"\\n\")\n",
    "print(\"----------- Writing Modelling Datasets-------------\")\n",
    "print(\"\\n\")\n",
    "\n",
    "\n",
    "Training_data =X_train.merge(y_train, how='inner', on = 'customer_id')\n",
    "Testing_data = X_test.merge(y_test, how='inner', on = 'customer_id')\n",
    "\n",
    "print(\"\\n\")\n",
    "print(\"----------- Shape of train Dataset-------------\")\n",
    "print(\"\\n\")\n",
    "print(Training_data.shape)\n",
    "\n",
    "print(\"\\n\")\n",
    "print(\"----------- Shape of test Dataset-------------\")\n",
    "print(\"\\n\")\n",
    "print(Testing_data.shape)\n",
    "\n",
    "Training_data.to_csv('data/Train.csv')\n",
    "Testing_data.to_csv('data/Test.csv')"
   ]
  }
 ],
 "metadata": {
  "kernelspec": {
   "display_name": "Python 3",
   "language": "python",
   "name": "python3"
  },
  "language_info": {
   "codemirror_mode": {
    "name": "ipython",
    "version": 3
   },
   "file_extension": ".py",
   "mimetype": "text/x-python",
   "name": "python",
   "nbconvert_exporter": "python",
   "pygments_lexer": "ipython3",
   "version": "3.7.3"
  }
 },
 "nbformat": 4,
 "nbformat_minor": 4
}
